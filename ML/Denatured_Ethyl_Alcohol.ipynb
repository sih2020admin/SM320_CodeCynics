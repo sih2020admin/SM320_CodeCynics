{
 "cells": [
  {
   "cell_type": "code",
   "execution_count": 2,
   "metadata": {
    "colab": {},
    "colab_type": "code",
    "id": "6BrtZjN9CvJW"
   },
   "outputs": [],
   "source": [
    "import pandas as pd\n",
    "import numpy as np\n",
    "import matplotlib.pyplot as plt\n",
    "import seaborn as sns\n",
    "from sklearn.metrics import explained_variance_score,r2_score, max_error, mean_absolute_error, median_absolute_error, mean_squared_error\n",
    "from math import sqrt\n",
    "from sklearn import linear_model , metrics\n",
    "from sklearn.model_selection import train_test_split\n",
    "from sklearn.linear_model import LinearRegression\n",
    "import joblib\n",
    "%matplotlib inline"
   ]
  },
  {
   "cell_type": "code",
   "execution_count": 3,
   "metadata": {
    "colab": {},
    "colab_type": "code",
    "id": "ZOGYPMMwCvJ0"
   },
   "outputs": [],
   "source": [
    "from plotly import __version__\n",
    "from plotly.offline import download_plotlyjs, init_notebook_mode, plot, iplot\n",
    "import cufflinks as cf"
   ]
  },
  {
   "cell_type": "code",
   "execution_count": 4,
   "metadata": {
    "colab": {
     "base_uri": "https://localhost:8080/",
     "height": 17
    },
    "colab_type": "code",
    "id": "qkZhkiDlCvKF",
    "outputId": "eb21b2d0-ca11-474e-911e-9a516469beba"
   },
   "outputs": [
    {
     "data": {
      "text/html": [
       "        <script type=\"text/javascript\">\n",
       "        window.PlotlyConfig = {MathJaxConfig: 'local'};\n",
       "        if (window.MathJax) {MathJax.Hub.Config({SVG: {font: \"STIX-Web\"}});}\n",
       "        if (typeof require !== 'undefined') {\n",
       "        require.undef(\"plotly\");\n",
       "        requirejs.config({\n",
       "            paths: {\n",
       "                'plotly': ['https://cdn.plot.ly/plotly-latest.min']\n",
       "            }\n",
       "        });\n",
       "        require(['plotly'], function(Plotly) {\n",
       "            window._Plotly = Plotly;\n",
       "        });\n",
       "        }\n",
       "        </script>\n",
       "        "
      ]
     },
     "metadata": {},
     "output_type": "display_data"
    },
    {
     "data": {
      "text/html": [
       "        <script type=\"text/javascript\">\n",
       "        window.PlotlyConfig = {MathJaxConfig: 'local'};\n",
       "        if (window.MathJax) {MathJax.Hub.Config({SVG: {font: \"STIX-Web\"}});}\n",
       "        if (typeof require !== 'undefined') {\n",
       "        require.undef(\"plotly\");\n",
       "        requirejs.config({\n",
       "            paths: {\n",
       "                'plotly': ['https://cdn.plot.ly/plotly-latest.min']\n",
       "            }\n",
       "        });\n",
       "        require(['plotly'], function(Plotly) {\n",
       "            window._Plotly = Plotly;\n",
       "        });\n",
       "        }\n",
       "        </script>\n",
       "        "
      ]
     },
     "metadata": {},
     "output_type": "display_data"
    }
   ],
   "source": [
    "init_notebook_mode(connected=True)\n",
    "cf.go_offline()"
   ]
  },
  {
   "cell_type": "code",
   "execution_count": 5,
   "metadata": {
    "colab": {},
    "colab_type": "code",
    "id": "DErTPH7MCvKe"
   },
   "outputs": [],
   "source": [
    "df=pd.read_csv('DENATUREDETHYLALCOHOL.csv')"
   ]
  },
  {
   "cell_type": "code",
   "execution_count": 6,
   "metadata": {
    "colab": {
     "base_uri": "https://localhost:8080/",
     "height": 296
    },
    "colab_type": "code",
    "id": "TqGf5AKbCvK9",
    "outputId": "aee5ea16-abc5-496a-ed5d-7d15b65eb1de"
   },
   "outputs": [
    {
     "data": {
      "text/plain": [
       "<matplotlib.axes._subplots.AxesSubplot at 0x1a13d91e50>"
      ]
     },
     "execution_count": 6,
     "metadata": {},
     "output_type": "execute_result"
    },
    {
     "data": {
      "image/png": "[encoded data removed]",
      "text/plain": [
       "<Figure size 432x288 with 1 Axes>"
      ]
     },
     "metadata": {
      "needs_background": "light"
     },
     "output_type": "display_data"
    }
   ],
   "source": [
    "sns.scatterplot(x='Total Weight',y='Productivity',data=df)"
   ]
  },
  {
   "cell_type": "code",
   "execution_count": 7,
   "metadata": {
    "colab": {
     "base_uri": "https://localhost:8080/",
     "height": 368
    },
    "colab_type": "code",
    "id": "SIZfNHJTCvLP",
    "outputId": "a7cf3ac8-291b-4930-ad78-58130f0ada9c"
   },
   "outputs": [
    {
     "data": {
      "text/html": [
       "<div>\n",
       "<style scoped>\n",
       "    .dataframe tbody tr th:only-of-type {\n",
       "        vertical-align: middle;\n",
       "    }\n",
       "\n",
       "    .dataframe tbody tr th {\n",
       "        vertical-align: top;\n",
       "    }\n",
       "\n",
       "    .dataframe thead th {\n",
       "        text-align: right;\n",
       "    }\n",
       "</style>\n",
       "<table border=\"1\" class=\"dataframe\">\n",
       "  <thead>\n",
       "    <tr style=\"text-align: right;\">\n",
       "      <th></th>\n",
       "      <th>Unnamed: 0</th>\n",
       "      <th>VCN</th>\n",
       "      <th>TAT (ATB  -ATUB)\\nHOUR</th>\n",
       "      <th>TAT\\n(ATA - ATD)\\nHOUR</th>\n",
       "      <th>Total Weight</th>\n",
       "      <th>QTY IN LAKH MT</th>\n",
       "      <th>Qty in MMT</th>\n",
       "      <th>TEUs ('000)</th>\n",
       "      <th>Port Delay (Hrs)</th>\n",
       "      <th>Vessel Delay (Hrs)</th>\n",
       "      <th>Productivity</th>\n",
       "      <th>DEAD WT</th>\n",
       "    </tr>\n",
       "  </thead>\n",
       "  <tbody>\n",
       "    <tr>\n",
       "      <th>count</th>\n",
       "      <td>24.000000</td>\n",
       "      <td>24.000000</td>\n",
       "      <td>24.000000</td>\n",
       "      <td>24.000000</td>\n",
       "      <td>2.400000e+01</td>\n",
       "      <td>24.000000</td>\n",
       "      <td>24.000000</td>\n",
       "      <td>24.0</td>\n",
       "      <td>24.000000</td>\n",
       "      <td>24.000000</td>\n",
       "      <td>24.000000</td>\n",
       "      <td>22.000000</td>\n",
       "    </tr>\n",
       "    <tr>\n",
       "      <th>mean</th>\n",
       "      <td>369.625000</td>\n",
       "      <td>195830.333333</td>\n",
       "      <td>21.479167</td>\n",
       "      <td>29.758750</td>\n",
       "      <td>7.512747e+03</td>\n",
       "      <td>0.073750</td>\n",
       "      <td>0.007375</td>\n",
       "      <td>0.0</td>\n",
       "      <td>4.086667</td>\n",
       "      <td>3.120833</td>\n",
       "      <td>4525.740833</td>\n",
       "      <td>40079.736273</td>\n",
       "    </tr>\n",
       "    <tr>\n",
       "      <th>std</th>\n",
       "      <td>83.309696</td>\n",
       "      <td>4406.331094</td>\n",
       "      <td>23.714147</td>\n",
       "      <td>42.612358</td>\n",
       "      <td>7.169826e+03</td>\n",
       "      <td>0.071128</td>\n",
       "      <td>0.007113</td>\n",
       "      <td>0.0</td>\n",
       "      <td>15.461782</td>\n",
       "      <td>14.680155</td>\n",
       "      <td>2941.906079</td>\n",
       "      <td>3988.827304</td>\n",
       "    </tr>\n",
       "    <tr>\n",
       "      <th>min</th>\n",
       "      <td>174.000000</td>\n",
       "      <td>190910.000000</td>\n",
       "      <td>0.000000</td>\n",
       "      <td>0.000000</td>\n",
       "      <td>-9.094947e-13</td>\n",
       "      <td>0.000000</td>\n",
       "      <td>0.000000</td>\n",
       "      <td>0.0</td>\n",
       "      <td>0.000000</td>\n",
       "      <td>0.000000</td>\n",
       "      <td>0.000000</td>\n",
       "      <td>26105.198000</td>\n",
       "    </tr>\n",
       "    <tr>\n",
       "      <th>25%</th>\n",
       "      <td>316.000000</td>\n",
       "      <td>191896.500000</td>\n",
       "      <td>0.000000</td>\n",
       "      <td>0.000000</td>\n",
       "      <td>3.788161e+03</td>\n",
       "      <td>0.037500</td>\n",
       "      <td>0.003750</td>\n",
       "      <td>0.0</td>\n",
       "      <td>0.000000</td>\n",
       "      <td>0.000000</td>\n",
       "      <td>2817.362500</td>\n",
       "      <td>39644.000000</td>\n",
       "    </tr>\n",
       "    <tr>\n",
       "      <th>50%</th>\n",
       "      <td>389.500000</td>\n",
       "      <td>192946.000000</td>\n",
       "      <td>21.950000</td>\n",
       "      <td>23.075000</td>\n",
       "      <td>5.245000e+03</td>\n",
       "      <td>0.050000</td>\n",
       "      <td>0.005000</td>\n",
       "      <td>0.0</td>\n",
       "      <td>0.000000</td>\n",
       "      <td>0.000000</td>\n",
       "      <td>4003.715000</td>\n",
       "      <td>41580.000000</td>\n",
       "    </tr>\n",
       "    <tr>\n",
       "      <th>75%</th>\n",
       "      <td>425.250000</td>\n",
       "      <td>200597.000000</td>\n",
       "      <td>36.250000</td>\n",
       "      <td>40.480000</td>\n",
       "      <td>9.550618e+03</td>\n",
       "      <td>0.092500</td>\n",
       "      <td>0.009250</td>\n",
       "      <td>0.0</td>\n",
       "      <td>0.000000</td>\n",
       "      <td>0.000000</td>\n",
       "      <td>6070.542500</td>\n",
       "      <td>41807.250000</td>\n",
       "    </tr>\n",
       "    <tr>\n",
       "      <th>max</th>\n",
       "      <td>495.000000</td>\n",
       "      <td>200792.000000</td>\n",
       "      <td>85.300000</td>\n",
       "      <td>167.620000</td>\n",
       "      <td>3.039361e+04</td>\n",
       "      <td>0.300000</td>\n",
       "      <td>0.030000</td>\n",
       "      <td>0.0</td>\n",
       "      <td>72.380000</td>\n",
       "      <td>72.000000</td>\n",
       "      <td>12021.790000</td>\n",
       "      <td>45680.000000</td>\n",
       "    </tr>\n",
       "  </tbody>\n",
       "</table>\n",
       "</div>"
      ],
      "text/plain": [
       "       Unnamed: 0            VCN  TAT (ATB  -ATUB)\\nHOUR  \\\n",
       "count   24.000000      24.000000               24.000000   \n",
       "mean   369.625000  195830.333333               21.479167   \n",
       "std     83.309696    4406.331094               23.714147   \n",
       "min    174.000000  190910.000000                0.000000   \n",
       "25%    316.000000  191896.500000                0.000000   \n",
       "50%    389.500000  192946.000000               21.950000   \n",
       "75%    425.250000  200597.000000               36.250000   \n",
       "max    495.000000  200792.000000               85.300000   \n",
       "\n",
       "       TAT\\n(ATA - ATD)\\nHOUR  Total Weight  QTY IN LAKH MT  Qty in MMT  \\\n",
       "count               24.000000  2.400000e+01       24.000000   24.000000   \n",
       "mean                29.758750  7.512747e+03        0.073750    0.007375   \n",
       "std                 42.612358  7.169826e+03        0.071128    0.007113   \n",
       "min                  0.000000 -9.094947e-13        0.000000    0.000000   \n",
       "25%                  0.000000  3.788161e+03        0.037500    0.003750   \n",
       "50%                 23.075000  5.245000e+03        0.050000    0.005000   \n",
       "75%                 40.480000  9.550618e+03        0.092500    0.009250   \n",
       "max                167.620000  3.039361e+04        0.300000    0.030000   \n",
       "\n",
       "       TEUs ('000)  Port Delay (Hrs)  Vessel Delay (Hrs)  Productivity  \\\n",
       "count         24.0         24.000000           24.000000     24.000000   \n",
       "mean           0.0          4.086667            3.120833   4525.740833   \n",
       "std            0.0         15.461782           14.680155   2941.906079   \n",
       "min            0.0          0.000000            0.000000      0.000000   \n",
       "25%            0.0          0.000000            0.000000   2817.362500   \n",
       "50%            0.0          0.000000            0.000000   4003.715000   \n",
       "75%            0.0          0.000000            0.000000   6070.542500   \n",
       "max            0.0         72.380000           72.000000  12021.790000   \n",
       "\n",
       "            DEAD WT  \n",
       "count     22.000000  \n",
       "mean   40079.736273  \n",
       "std     3988.827304  \n",
       "min    26105.198000  \n",
       "25%    39644.000000  \n",
       "50%    41580.000000  \n",
       "75%    41807.250000  \n",
       "max    45680.000000  "
      ]
     },
     "execution_count": 7,
     "metadata": {},
     "output_type": "execute_result"
    }
   ],
   "source": [
    "df.describe()"
   ]
  },
  {
   "cell_type": "code",
   "execution_count": 8,
   "metadata": {
    "colab": {},
    "colab_type": "code",
    "id": "UBoJddWGCvLh"
   },
   "outputs": [],
   "source": [
    "X=df[['Total Weight']]\n",
    "y=df['Productivity']\n",
    "X_train, X_test, y_train, y_test = train_test_split(X, y, test_size=0.33, random_state=1)"
   ]
  },
  {
   "cell_type": "code",
   "execution_count": 9,
   "metadata": {
    "colab": {
     "base_uri": "https://localhost:8080/",
     "height": 34
    },
    "colab_type": "code",
    "id": "cf46FgNBCvL0",
    "outputId": "eda14368-e590-4cbf-8272-19bc1054e976"
   },
   "outputs": [
    {
     "data": {
      "text/plain": [
       "LinearRegression()"
      ]
     },
     "execution_count": 9,
     "metadata": {},
     "output_type": "execute_result"
    }
   ],
   "source": [
    "lm=LinearRegression()\n",
    "lm.fit(X_train,y_train)"
   ]
  },
  {
   "cell_type": "code",
   "execution_count": 10,
   "metadata": {
    "colab": {
     "base_uri": "https://localhost:8080/",
     "height": 34
    },
    "colab_type": "code",
    "id": "sng0WAz1CvMG",
    "outputId": "a31e91b2-57d9-4e18-bd62-97c910cccde8"
   },
   "outputs": [
    {
     "name": "stdout",
     "output_type": "stream",
     "text": [
      "2008.07477460556\n"
     ]
    }
   ],
   "source": [
    "print(lm.intercept_)"
   ]
  },
  {
   "cell_type": "code",
   "execution_count": 11,
   "metadata": {
    "colab": {
     "base_uri": "https://localhost:8080/",
     "height": 80
    },
    "colab_type": "code",
    "id": "hDYCb50bCvMW",
    "outputId": "8b3cf0d7-0a85-47d7-f5dd-811ae3bb5a97"
   },
   "outputs": [
    {
     "data": {
      "text/html": [
       "<div>\n",
       "<style scoped>\n",
       "    .dataframe tbody tr th:only-of-type {\n",
       "        vertical-align: middle;\n",
       "    }\n",
       "\n",
       "    .dataframe tbody tr th {\n",
       "        vertical-align: top;\n",
       "    }\n",
       "\n",
       "    .dataframe thead th {\n",
       "        text-align: right;\n",
       "    }\n",
       "</style>\n",
       "<table border=\"1\" class=\"dataframe\">\n",
       "  <thead>\n",
       "    <tr style=\"text-align: right;\">\n",
       "      <th></th>\n",
       "      <th>Coefficient</th>\n",
       "    </tr>\n",
       "  </thead>\n",
       "  <tbody>\n",
       "    <tr>\n",
       "      <th>Total Weight</th>\n",
       "      <td>0.324681</td>\n",
       "    </tr>\n",
       "  </tbody>\n",
       "</table>\n",
       "</div>"
      ],
      "text/plain": [
       "              Coefficient\n",
       "Total Weight     0.324681"
      ]
     },
     "execution_count": 11,
     "metadata": {},
     "output_type": "execute_result"
    }
   ],
   "source": [
    "coeff_df = pd.DataFrame(lm.coef_,X.columns,columns=['Coefficient'])\n",
    "coeff_df"
   ]
  },
  {
   "cell_type": "code",
   "execution_count": 12,
   "metadata": {
    "colab": {},
    "colab_type": "code",
    "id": "_YUS43zuCvMo"
   },
   "outputs": [],
   "source": [
    "predictions = lm.predict(X_test)"
   ]
  },
  {
   "cell_type": "code",
   "execution_count": 15,
   "metadata": {},
   "outputs": [
    {
     "data": {
      "text/plain": [
       "[<matplotlib.lines.Line2D at 0x1a225e3310>]"
      ]
     },
     "execution_count": 15,
     "metadata": {},
     "output_type": "execute_result"
    },
    {
     "data": {
      "image/png": "[encoded data removed]",
      "text/plain": [
       "<Figure size 432x288 with 1 Axes>"
      ]
     },
     "metadata": {
      "needs_background": "light"
     },
     "output_type": "display_data"
    }
   ],
   "source": [
    "plt.scatter(X,y,color='red')\n",
    "plt.plot(X_test,predictions,color='blue')"
   ]
  },
  {
   "cell_type": "code",
   "execution_count": 16,
   "metadata": {
    "colab": {
     "base_uri": "https://localhost:8080/",
     "height": 68
    },
    "colab_type": "code",
    "id": "p73JC1UlCvM4",
    "outputId": "a87c9b67-782e-40db-bf36-0f157e0dfa9d"
   },
   "outputs": [
    {
     "name": "stdout",
     "output_type": "stream",
     "text": [
      "MAE: 1074.5812247049985\n",
      "MSE: 1489701.8349642423\n",
      "RMSE: 1220.5334223052814\n",
      "r2_score: 0.6482386518201465\n"
     ]
    }
   ],
   "source": [
    "print('MAE:', metrics.mean_absolute_error(y_test, predictions))\n",
    "print('MSE:', metrics.mean_squared_error(y_test, predictions))\n",
    "print('RMSE:', np.sqrt(metrics.mean_squared_error(y_test, predictions)))#Main\n",
    "print('r2_score:',r2_score(y_test, predictions))"
   ]
  },
  {
   "cell_type": "code",
   "execution_count": 14,
   "metadata": {
    "colab": {
     "base_uri": "https://localhost:8080/",
     "height": 34
    },
    "colab_type": "code",
    "id": "8X9Us0ylCvNK",
    "outputId": "9b664684-f2c1-4ae8-e9cc-4e836f47b313"
   },
   "outputs": [
    {
     "data": {
      "text/plain": [
       "['Denatured_Ethyl_Alcohol..pkl']"
      ]
     },
     "execution_count": 14,
     "metadata": {},
     "output_type": "execute_result"
    }
   ],
   "source": [
    "joblib.dump(lm,\"Denatured_Ethyl_Alcohol..pkl\")#only execute if rmse is less than half of mean of productivity"
   ]
  }
 ],
 "metadata": {
  "colab": {
   "name": "Denatured_Ethyl_Alcohol.ipynb",
   "provenance": []
  },
  "kernelspec": {
   "display_name": "Python 3",
   "language": "python",
   "name": "python3"
  },
  "language_info": {
   "codemirror_mode": {
    "name": "ipython",
    "version": 3
   },
   "file_extension": ".py",
   "mimetype": "text/x-python",
   "name": "python",
   "nbconvert_exporter": "python",
   "pygments_lexer": "ipython3",
   "version": "3.7.6"
  }
 },
 "nbformat": 4,
 "nbformat_minor": 1
}
