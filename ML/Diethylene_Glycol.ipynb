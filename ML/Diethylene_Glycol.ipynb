{
 "cells": [
  {
   "cell_type": "code",
   "execution_count": 32,
   "metadata": {
    "colab": {
     "base_uri": "https://localhost:8080/",
     "height": 71
    },
    "colab_type": "code",
    "id": "6BrtZjN9CvJW",
    "outputId": "dd48c8e2-9c2b-430c-95f0-e7741ecb83e4"
   },
   "outputs": [],
   "source": [
    "import pandas as pd\n",
    "import numpy as np\n",
    "import matplotlib.pyplot as plt\n",
    "import seaborn as sns\n",
    "from sklearn.metrics import explained_variance_score,r2_score, max_error, mean_absolute_error, median_absolute_error, mean_squared_error\n",
    "from math import sqrt\n",
    "from sklearn import linear_model , metrics\n",
    "from sklearn.model_selection import train_test_split\n",
    "from sklearn.linear_model import LinearRegression\n",
    "import joblib\n",
    "%matplotlib inline"
   ]
  },
  {
   "cell_type": "code",
   "execution_count": 33,
   "metadata": {
    "colab": {},
    "colab_type": "code",
    "id": "ZOGYPMMwCvJ0"
   },
   "outputs": [],
   "source": [
    "from plotly import __version__\n",
    "from plotly.offline import download_plotlyjs, init_notebook_mode, plot, iplot\n",
    "import cufflinks as cf"
   ]
  },
  {
   "cell_type": "code",
   "execution_count": 34,
   "metadata": {
    "colab": {
     "base_uri": "https://localhost:8080/",
     "height": 17
    },
    "colab_type": "code",
    "id": "qkZhkiDlCvKF",
    "outputId": "379ecb4d-b962-47ae-ebf5-5b91c8b5e6a0"
   },
   "outputs": [
    {
     "data": {
      "text/html": [
       "        <script type=\"text/javascript\">\n",
       "        window.PlotlyConfig = {MathJaxConfig: 'local'};\n",
       "        if (window.MathJax) {MathJax.Hub.Config({SVG: {font: \"STIX-Web\"}});}\n",
       "        if (typeof require !== 'undefined') {\n",
       "        require.undef(\"plotly\");\n",
       "        requirejs.config({\n",
       "            paths: {\n",
       "                'plotly': ['https://cdn.plot.ly/plotly-latest.min']\n",
       "            }\n",
       "        });\n",
       "        require(['plotly'], function(Plotly) {\n",
       "            window._Plotly = Plotly;\n",
       "        });\n",
       "        }\n",
       "        </script>\n",
       "        "
      ]
     },
     "metadata": {},
     "output_type": "display_data"
    },
    {
     "data": {
      "text/html": [
       "        <script type=\"text/javascript\">\n",
       "        window.PlotlyConfig = {MathJaxConfig: 'local'};\n",
       "        if (window.MathJax) {MathJax.Hub.Config({SVG: {font: \"STIX-Web\"}});}\n",
       "        if (typeof require !== 'undefined') {\n",
       "        require.undef(\"plotly\");\n",
       "        requirejs.config({\n",
       "            paths: {\n",
       "                'plotly': ['https://cdn.plot.ly/plotly-latest.min']\n",
       "            }\n",
       "        });\n",
       "        require(['plotly'], function(Plotly) {\n",
       "            window._Plotly = Plotly;\n",
       "        });\n",
       "        }\n",
       "        </script>\n",
       "        "
      ]
     },
     "metadata": {},
     "output_type": "display_data"
    }
   ],
   "source": [
    "init_notebook_mode(connected=True)\n",
    "cf.go_offline()"
   ]
  },
  {
   "cell_type": "code",
   "execution_count": 35,
   "metadata": {
    "colab": {},
    "colab_type": "code",
    "id": "DErTPH7MCvKe"
   },
   "outputs": [],
   "source": [
    "df=pd.read_csv('DIETHYLENEGLYCOL.csv')"
   ]
  },
  {
   "cell_type": "code",
   "execution_count": 36,
   "metadata": {
    "colab": {
     "base_uri": "https://localhost:8080/",
     "height": 298
    },
    "colab_type": "code",
    "id": "TqGf5AKbCvK9",
    "outputId": "d9d77dde-b7b2-4495-a2e2-d4cb0400c529"
   },
   "outputs": [
    {
     "data": {
      "text/plain": [
       "<matplotlib.axes._subplots.AxesSubplot at 0x2617d74f948>"
      ]
     },
     "execution_count": 36,
     "metadata": {},
     "output_type": "execute_result"
    },
    {
     "data": {
      "image/png": "[encoded data removed]",
      "text/plain": [
       "<Figure size 432x288 with 1 Axes>"
      ]
     },
     "metadata": {
      "needs_background": "light"
     },
     "output_type": "display_data"
    }
   ],
   "source": [
    "sns.scatterplot(x='Total Weight',y='Productivity',data=df)"
   ]
  },
  {
   "cell_type": "code",
   "execution_count": 37,
   "metadata": {
    "colab": {
     "base_uri": "https://localhost:8080/",
     "height": 351
    },
    "colab_type": "code",
    "id": "SIZfNHJTCvLP",
    "outputId": "4e965b39-cc53-45c8-c95b-47dbdfc0d677"
   },
   "outputs": [
    {
     "data": {
      "text/html": [
       "<div>\n",
       "<style scoped>\n",
       "    .dataframe tbody tr th:only-of-type {\n",
       "        vertical-align: middle;\n",
       "    }\n",
       "\n",
       "    .dataframe tbody tr th {\n",
       "        vertical-align: top;\n",
       "    }\n",
       "\n",
       "    .dataframe thead th {\n",
       "        text-align: right;\n",
       "    }\n",
       "</style>\n",
       "<table border=\"1\" class=\"dataframe\">\n",
       "  <thead>\n",
       "    <tr style=\"text-align: right;\">\n",
       "      <th></th>\n",
       "      <th>Unnamed: 0</th>\n",
       "      <th>VCN</th>\n",
       "      <th>TAT (ATB  -ATUB)\\nHOUR</th>\n",
       "      <th>TAT\\n(ATA - ATD)\\nHOUR</th>\n",
       "      <th>Total Weight</th>\n",
       "      <th>QTY IN LAKH MT</th>\n",
       "      <th>Qty in MMT</th>\n",
       "      <th>TEUs ('000)</th>\n",
       "      <th>Port Delay (Hrs)</th>\n",
       "      <th>Vessel Delay (Hrs)</th>\n",
       "      <th>Productivity</th>\n",
       "      <th>DEAD WT</th>\n",
       "    </tr>\n",
       "  </thead>\n",
       "  <tbody>\n",
       "    <tr>\n",
       "      <th>count</th>\n",
       "      <td>19.000000</td>\n",
       "      <td>19.000000</td>\n",
       "      <td>19.000000</td>\n",
       "      <td>19.000000</td>\n",
       "      <td>19.000000</td>\n",
       "      <td>19.000000</td>\n",
       "      <td>19.000000</td>\n",
       "      <td>19.0</td>\n",
       "      <td>19.0</td>\n",
       "      <td>19.000000</td>\n",
       "      <td>19.000000</td>\n",
       "      <td>15.000000</td>\n",
       "    </tr>\n",
       "    <tr>\n",
       "      <th>mean</th>\n",
       "      <td>393.000000</td>\n",
       "      <td>194082.263158</td>\n",
       "      <td>17.210526</td>\n",
       "      <td>24.885263</td>\n",
       "      <td>1578.624474</td>\n",
       "      <td>0.017368</td>\n",
       "      <td>0.001737</td>\n",
       "      <td>0.0</td>\n",
       "      <td>0.0</td>\n",
       "      <td>6.590000</td>\n",
       "      <td>2009.864211</td>\n",
       "      <td>25189.325333</td>\n",
       "    </tr>\n",
       "    <tr>\n",
       "      <th>std</th>\n",
       "      <td>98.992143</td>\n",
       "      <td>3509.932127</td>\n",
       "      <td>12.419028</td>\n",
       "      <td>21.439779</td>\n",
       "      <td>830.709043</td>\n",
       "      <td>0.009912</td>\n",
       "      <td>0.000991</td>\n",
       "      <td>0.0</td>\n",
       "      <td>0.0</td>\n",
       "      <td>15.698322</td>\n",
       "      <td>977.872983</td>\n",
       "      <td>23179.912832</td>\n",
       "    </tr>\n",
       "    <tr>\n",
       "      <th>min</th>\n",
       "      <td>175.000000</td>\n",
       "      <td>191103.000000</td>\n",
       "      <td>0.000000</td>\n",
       "      <td>0.000000</td>\n",
       "      <td>0.000000</td>\n",
       "      <td>0.000000</td>\n",
       "      <td>0.000000</td>\n",
       "      <td>0.0</td>\n",
       "      <td>0.0</td>\n",
       "      <td>0.000000</td>\n",
       "      <td>0.000000</td>\n",
       "      <td>7880.000000</td>\n",
       "    </tr>\n",
       "    <tr>\n",
       "      <th>25%</th>\n",
       "      <td>357.500000</td>\n",
       "      <td>192112.500000</td>\n",
       "      <td>14.125000</td>\n",
       "      <td>15.875000</td>\n",
       "      <td>1027.203000</td>\n",
       "      <td>0.010000</td>\n",
       "      <td>0.001000</td>\n",
       "      <td>0.0</td>\n",
       "      <td>0.0</td>\n",
       "      <td>0.000000</td>\n",
       "      <td>1662.725000</td>\n",
       "      <td>14494.000000</td>\n",
       "    </tr>\n",
       "    <tr>\n",
       "      <th>50%</th>\n",
       "      <td>435.000000</td>\n",
       "      <td>192568.000000</td>\n",
       "      <td>16.280000</td>\n",
       "      <td>17.580000</td>\n",
       "      <td>1549.260000</td>\n",
       "      <td>0.020000</td>\n",
       "      <td>0.002000</td>\n",
       "      <td>0.0</td>\n",
       "      <td>0.0</td>\n",
       "      <td>0.000000</td>\n",
       "      <td>1924.780000</td>\n",
       "      <td>18271.000000</td>\n",
       "    </tr>\n",
       "    <tr>\n",
       "      <th>75%</th>\n",
       "      <td>472.500000</td>\n",
       "      <td>193203.500000</td>\n",
       "      <td>20.990000</td>\n",
       "      <td>27.650000</td>\n",
       "      <td>2270.467000</td>\n",
       "      <td>0.025000</td>\n",
       "      <td>0.002500</td>\n",
       "      <td>0.0</td>\n",
       "      <td>0.0</td>\n",
       "      <td>1.250000</td>\n",
       "      <td>2637.335000</td>\n",
       "      <td>25789.500000</td>\n",
       "    </tr>\n",
       "    <tr>\n",
       "      <th>max</th>\n",
       "      <td>496.000000</td>\n",
       "      <td>200898.000000</td>\n",
       "      <td>58.750000</td>\n",
       "      <td>82.170000</td>\n",
       "      <td>3016.479000</td>\n",
       "      <td>0.030000</td>\n",
       "      <td>0.003000</td>\n",
       "      <td>0.0</td>\n",
       "      <td>0.0</td>\n",
       "      <td>60.580000</td>\n",
       "      <td>3844.010000</td>\n",
       "      <td>102607.000000</td>\n",
       "    </tr>\n",
       "  </tbody>\n",
       "</table>\n",
       "</div>"
      ],
      "text/plain": [
       "       Unnamed: 0            VCN  TAT (ATB  -ATUB)\\nHOUR  \\\n",
       "count   19.000000      19.000000               19.000000   \n",
       "mean   393.000000  194082.263158               17.210526   \n",
       "std     98.992143    3509.932127               12.419028   \n",
       "min    175.000000  191103.000000                0.000000   \n",
       "25%    357.500000  192112.500000               14.125000   \n",
       "50%    435.000000  192568.000000               16.280000   \n",
       "75%    472.500000  193203.500000               20.990000   \n",
       "max    496.000000  200898.000000               58.750000   \n",
       "\n",
       "       TAT\\n(ATA - ATD)\\nHOUR  Total Weight  QTY IN LAKH MT  Qty in MMT  \\\n",
       "count               19.000000     19.000000       19.000000   19.000000   \n",
       "mean                24.885263   1578.624474        0.017368    0.001737   \n",
       "std                 21.439779    830.709043        0.009912    0.000991   \n",
       "min                  0.000000      0.000000        0.000000    0.000000   \n",
       "25%                 15.875000   1027.203000        0.010000    0.001000   \n",
       "50%                 17.580000   1549.260000        0.020000    0.002000   \n",
       "75%                 27.650000   2270.467000        0.025000    0.002500   \n",
       "max                 82.170000   3016.479000        0.030000    0.003000   \n",
       "\n",
       "       TEUs ('000)  Port Delay (Hrs)  Vessel Delay (Hrs)  Productivity  \\\n",
       "count         19.0              19.0           19.000000     19.000000   \n",
       "mean           0.0               0.0            6.590000   2009.864211   \n",
       "std            0.0               0.0           15.698322    977.872983   \n",
       "min            0.0               0.0            0.000000      0.000000   \n",
       "25%            0.0               0.0            0.000000   1662.725000   \n",
       "50%            0.0               0.0            0.000000   1924.780000   \n",
       "75%            0.0               0.0            1.250000   2637.335000   \n",
       "max            0.0               0.0           60.580000   3844.010000   \n",
       "\n",
       "             DEAD WT  \n",
       "count      15.000000  \n",
       "mean    25189.325333  \n",
       "std     23179.912832  \n",
       "min      7880.000000  \n",
       "25%     14494.000000  \n",
       "50%     18271.000000  \n",
       "75%     25789.500000  \n",
       "max    102607.000000  "
      ]
     },
     "execution_count": 37,
     "metadata": {},
     "output_type": "execute_result"
    }
   ],
   "source": [
    "df.describe()"
   ]
  },
  {
   "cell_type": "code",
   "execution_count": 38,
   "metadata": {},
   "outputs": [
    {
     "data": {
      "text/html": [
       "<div>\n",
       "<style scoped>\n",
       "    .dataframe tbody tr th:only-of-type {\n",
       "        vertical-align: middle;\n",
       "    }\n",
       "\n",
       "    .dataframe tbody tr th {\n",
       "        vertical-align: top;\n",
       "    }\n",
       "\n",
       "    .dataframe thead th {\n",
       "        text-align: right;\n",
       "    }\n",
       "</style>\n",
       "<table border=\"1\" class=\"dataframe\">\n",
       "  <thead>\n",
       "    <tr style=\"text-align: right;\">\n",
       "      <th></th>\n",
       "      <th>Unnamed: 0</th>\n",
       "      <th>VCN</th>\n",
       "      <th>TAT (ATB  -ATUB)\\nHOUR</th>\n",
       "      <th>TAT\\n(ATA - ATD)\\nHOUR</th>\n",
       "      <th>Total Weight</th>\n",
       "      <th>QTY IN LAKH MT</th>\n",
       "      <th>Qty in MMT</th>\n",
       "      <th>TEUs ('000)</th>\n",
       "      <th>Port Delay (Hrs)</th>\n",
       "      <th>Vessel Delay (Hrs)</th>\n",
       "      <th>Productivity</th>\n",
       "      <th>DEAD WT</th>\n",
       "    </tr>\n",
       "  </thead>\n",
       "  <tbody>\n",
       "    <tr>\n",
       "      <th>count</th>\n",
       "      <td>16.000000</td>\n",
       "      <td>16.000000</td>\n",
       "      <td>16.000000</td>\n",
       "      <td>16.000000</td>\n",
       "      <td>16.000000</td>\n",
       "      <td>16.000000</td>\n",
       "      <td>16.000000</td>\n",
       "      <td>16.0</td>\n",
       "      <td>16.0</td>\n",
       "      <td>16.000000</td>\n",
       "      <td>16.000000</td>\n",
       "      <td>13.000000</td>\n",
       "    </tr>\n",
       "    <tr>\n",
       "      <th>mean</th>\n",
       "      <td>391.875000</td>\n",
       "      <td>194395.187500</td>\n",
       "      <td>14.170000</td>\n",
       "      <td>21.620000</td>\n",
       "      <td>1712.047875</td>\n",
       "      <td>0.018750</td>\n",
       "      <td>0.001875</td>\n",
       "      <td>0.0</td>\n",
       "      <td>0.0</td>\n",
       "      <td>6.456875</td>\n",
       "      <td>2320.263750</td>\n",
       "      <td>26409.836923</td>\n",
       "    </tr>\n",
       "    <tr>\n",
       "      <th>std</th>\n",
       "      <td>105.761918</td>\n",
       "      <td>3752.802583</td>\n",
       "      <td>7.629657</td>\n",
       "      <td>20.920308</td>\n",
       "      <td>638.324875</td>\n",
       "      <td>0.008062</td>\n",
       "      <td>0.000806</td>\n",
       "      <td>0.0</td>\n",
       "      <td>0.0</td>\n",
       "      <td>16.637579</td>\n",
       "      <td>668.208476</td>\n",
       "      <td>24542.453660</td>\n",
       "    </tr>\n",
       "    <tr>\n",
       "      <th>min</th>\n",
       "      <td>175.000000</td>\n",
       "      <td>191103.000000</td>\n",
       "      <td>0.000000</td>\n",
       "      <td>0.000000</td>\n",
       "      <td>991.314000</td>\n",
       "      <td>0.010000</td>\n",
       "      <td>0.001000</td>\n",
       "      <td>0.0</td>\n",
       "      <td>0.0</td>\n",
       "      <td>0.000000</td>\n",
       "      <td>1547.660000</td>\n",
       "      <td>7880.000000</td>\n",
       "    </tr>\n",
       "    <tr>\n",
       "      <th>25%</th>\n",
       "      <td>341.750000</td>\n",
       "      <td>192178.250000</td>\n",
       "      <td>13.610000</td>\n",
       "      <td>15.140000</td>\n",
       "      <td>1361.387500</td>\n",
       "      <td>0.010000</td>\n",
       "      <td>0.001000</td>\n",
       "      <td>0.0</td>\n",
       "      <td>0.0</td>\n",
       "      <td>0.000000</td>\n",
       "      <td>1792.887500</td>\n",
       "      <td>15660.000000</td>\n",
       "    </tr>\n",
       "    <tr>\n",
       "      <th>50%</th>\n",
       "      <td>443.000000</td>\n",
       "      <td>192639.000000</td>\n",
       "      <td>15.520000</td>\n",
       "      <td>16.710000</td>\n",
       "      <td>1549.379500</td>\n",
       "      <td>0.020000</td>\n",
       "      <td>0.002000</td>\n",
       "      <td>0.0</td>\n",
       "      <td>0.0</td>\n",
       "      <td>0.000000</td>\n",
       "      <td>2170.970000</td>\n",
       "      <td>18271.000000</td>\n",
       "    </tr>\n",
       "    <tr>\n",
       "      <th>75%</th>\n",
       "      <td>472.250000</td>\n",
       "      <td>194962.000000</td>\n",
       "      <td>19.572500</td>\n",
       "      <td>21.127500</td>\n",
       "      <td>2150.335000</td>\n",
       "      <td>0.022500</td>\n",
       "      <td>0.002250</td>\n",
       "      <td>0.0</td>\n",
       "      <td>0.0</td>\n",
       "      <td>0.400000</td>\n",
       "      <td>2773.752500</td>\n",
       "      <td>25689.000000</td>\n",
       "    </tr>\n",
       "    <tr>\n",
       "      <th>max</th>\n",
       "      <td>496.000000</td>\n",
       "      <td>200898.000000</td>\n",
       "      <td>22.120000</td>\n",
       "      <td>82.170000</td>\n",
       "      <td>3016.479000</td>\n",
       "      <td>0.030000</td>\n",
       "      <td>0.003000</td>\n",
       "      <td>0.0</td>\n",
       "      <td>0.0</td>\n",
       "      <td>60.580000</td>\n",
       "      <td>3844.010000</td>\n",
       "      <td>102607.000000</td>\n",
       "    </tr>\n",
       "  </tbody>\n",
       "</table>\n",
       "</div>"
      ],
      "text/plain": [
       "       Unnamed: 0            VCN  TAT (ATB  -ATUB)\\nHOUR  \\\n",
       "count   16.000000      16.000000               16.000000   \n",
       "mean   391.875000  194395.187500               14.170000   \n",
       "std    105.761918    3752.802583                7.629657   \n",
       "min    175.000000  191103.000000                0.000000   \n",
       "25%    341.750000  192178.250000               13.610000   \n",
       "50%    443.000000  192639.000000               15.520000   \n",
       "75%    472.250000  194962.000000               19.572500   \n",
       "max    496.000000  200898.000000               22.120000   \n",
       "\n",
       "       TAT\\n(ATA - ATD)\\nHOUR  Total Weight  QTY IN LAKH MT  Qty in MMT  \\\n",
       "count               16.000000     16.000000       16.000000   16.000000   \n",
       "mean                21.620000   1712.047875        0.018750    0.001875   \n",
       "std                 20.920308    638.324875        0.008062    0.000806   \n",
       "min                  0.000000    991.314000        0.010000    0.001000   \n",
       "25%                 15.140000   1361.387500        0.010000    0.001000   \n",
       "50%                 16.710000   1549.379500        0.020000    0.002000   \n",
       "75%                 21.127500   2150.335000        0.022500    0.002250   \n",
       "max                 82.170000   3016.479000        0.030000    0.003000   \n",
       "\n",
       "       TEUs ('000)  Port Delay (Hrs)  Vessel Delay (Hrs)  Productivity  \\\n",
       "count         16.0              16.0           16.000000     16.000000   \n",
       "mean           0.0               0.0            6.456875   2320.263750   \n",
       "std            0.0               0.0           16.637579    668.208476   \n",
       "min            0.0               0.0            0.000000   1547.660000   \n",
       "25%            0.0               0.0            0.000000   1792.887500   \n",
       "50%            0.0               0.0            0.000000   2170.970000   \n",
       "75%            0.0               0.0            0.400000   2773.752500   \n",
       "max            0.0               0.0           60.580000   3844.010000   \n",
       "\n",
       "             DEAD WT  \n",
       "count      13.000000  \n",
       "mean    26409.836923  \n",
       "std     24542.453660  \n",
       "min      7880.000000  \n",
       "25%     15660.000000  \n",
       "50%     18271.000000  \n",
       "75%     25689.000000  \n",
       "max    102607.000000  "
      ]
     },
     "execution_count": 38,
     "metadata": {},
     "output_type": "execute_result"
    }
   ],
   "source": [
    "df=df[df['Productivity']>1100]\n",
    "df.describe()"
   ]
  },
  {
   "cell_type": "code",
   "execution_count": 39,
   "metadata": {
    "colab": {},
    "colab_type": "code",
    "id": "UBoJddWGCvLh"
   },
   "outputs": [],
   "source": [
    "X=df[['Total Weight']]\n",
    "y=df['Productivity']\n",
    "X_train, X_test, y_train, y_test = train_test_split(X, y, test_size=0.33, random_state=1)"
   ]
  },
  {
   "cell_type": "code",
   "execution_count": 40,
   "metadata": {
    "colab": {
     "base_uri": "https://localhost:8080/",
     "height": 34
    },
    "colab_type": "code",
    "id": "cf46FgNBCvL0",
    "outputId": "1f1f8499-0bf9-47b1-c547-86af4c27a4fe"
   },
   "outputs": [
    {
     "data": {
      "text/plain": [
       "LinearRegression(copy_X=True, fit_intercept=True, n_jobs=None, normalize=False)"
      ]
     },
     "execution_count": 40,
     "metadata": {},
     "output_type": "execute_result"
    }
   ],
   "source": [
    "lm=LinearRegression()\n",
    "lm.fit(X_train,y_train)"
   ]
  },
  {
   "cell_type": "code",
   "execution_count": 41,
   "metadata": {
    "colab": {
     "base_uri": "https://localhost:8080/",
     "height": 34
    },
    "colab_type": "code",
    "id": "sng0WAz1CvMG",
    "outputId": "a74ca109-44ec-4014-ca77-26b096f8a95e"
   },
   "outputs": [
    {
     "name": "stdout",
     "output_type": "stream",
     "text": [
      "462.06247751426076\n"
     ]
    }
   ],
   "source": [
    "print(lm.intercept_)"
   ]
  },
  {
   "cell_type": "code",
   "execution_count": 42,
   "metadata": {
    "colab": {
     "base_uri": "https://localhost:8080/",
     "height": 80
    },
    "colab_type": "code",
    "id": "hDYCb50bCvMW",
    "outputId": "de93e582-a40a-414d-b4f9-acb5084fa52e"
   },
   "outputs": [
    {
     "data": {
      "text/html": [
       "<div>\n",
       "<style scoped>\n",
       "    .dataframe tbody tr th:only-of-type {\n",
       "        vertical-align: middle;\n",
       "    }\n",
       "\n",
       "    .dataframe tbody tr th {\n",
       "        vertical-align: top;\n",
       "    }\n",
       "\n",
       "    .dataframe thead th {\n",
       "        text-align: right;\n",
       "    }\n",
       "</style>\n",
       "<table border=\"1\" class=\"dataframe\">\n",
       "  <thead>\n",
       "    <tr style=\"text-align: right;\">\n",
       "      <th></th>\n",
       "      <th>Coefficient</th>\n",
       "    </tr>\n",
       "  </thead>\n",
       "  <tbody>\n",
       "    <tr>\n",
       "      <th>Total Weight</th>\n",
       "      <td>1.033654</td>\n",
       "    </tr>\n",
       "  </tbody>\n",
       "</table>\n",
       "</div>"
      ],
      "text/plain": [
       "              Coefficient\n",
       "Total Weight     1.033654"
      ]
     },
     "execution_count": 42,
     "metadata": {},
     "output_type": "execute_result"
    }
   ],
   "source": [
    "coeff_df = pd.DataFrame(lm.coef_,X.columns,columns=['Coefficient'])\n",
    "coeff_df"
   ]
  },
  {
   "cell_type": "code",
   "execution_count": 43,
   "metadata": {
    "colab": {},
    "colab_type": "code",
    "id": "_YUS43zuCvMo"
   },
   "outputs": [],
   "source": [
    "predictions = lm.predict(X_test)"
   ]
  },
  {
   "cell_type": "code",
   "execution_count": 44,
   "metadata": {},
   "outputs": [
    {
     "data": {
      "text/plain": [
       "[<matplotlib.lines.Line2D at 0x2617d848c08>]"
      ]
     },
     "execution_count": 44,
     "metadata": {},
     "output_type": "execute_result"
    },
    {
     "data": {
      "image/png": "[encoded data removed]",
      "text/plain": [
       "<Figure size 432x288 with 1 Axes>"
      ]
     },
     "metadata": {
      "needs_background": "light"
     },
     "output_type": "display_data"
    }
   ],
   "source": [
    "plt.scatter(X,y,color='red')\n",
    "plt.plot(X_test,predictions,color='blue')"
   ]
  },
  {
   "cell_type": "code",
   "execution_count": 45,
   "metadata": {
    "colab": {
     "base_uri": "https://localhost:8080/",
     "height": 68
    },
    "colab_type": "code",
    "id": "p73JC1UlCvM4",
    "outputId": "d12c4166-4fb4-4cdc-fab9-8fc9fa315a46"
   },
   "outputs": [
    {
     "name": "stdout",
     "output_type": "stream",
     "text": [
      "MAE: 346.3883531330614\n",
      "MSE: 136971.90774973878\n",
      "RMSE: 370.09715987796875\n",
      "r2_score: 0.09135804479363618\n"
     ]
    }
   ],
   "source": [
    "print('MAE:', metrics.mean_absolute_error(y_test, predictions))\n",
    "print('MSE:', metrics.mean_squared_error(y_test, predictions))\n",
    "print('RMSE:', np.sqrt(metrics.mean_squared_error(y_test, predictions)))#Main\n",
    "print('r2_score:',r2_score(y_test, predictions))"
   ]
  },
  {
   "cell_type": "code",
   "execution_count": 46,
   "metadata": {
    "colab": {
     "base_uri": "https://localhost:8080/",
     "height": 34
    },
    "colab_type": "code",
    "id": "8X9Us0ylCvNK",
    "outputId": "8f8588de-d4f5-4ae8-cea0-67ead101bb98"
   },
   "outputs": [
    {
     "data": {
      "text/plain": [
       "['Diethylene_Glycol.pkl']"
      ]
     },
     "execution_count": 46,
     "metadata": {},
     "output_type": "execute_result"
    }
   ],
   "source": [
    "joblib.dump(lm,\"Diethylene_Glycol.pkl\")#only execute if rmse is less than half of mean of productivity"
   ]
  }
 ],
 "metadata": {
  "colab": {
   "name": "Diethylene_Glycol.ipynb",
   "provenance": []
  },
  "kernelspec": {
   "display_name": "Python 3",
   "language": "python",
   "name": "python3"
  },
  "language_info": {
   "codemirror_mode": {
    "name": "ipython",
    "version": 3
   },
   "file_extension": ".py",
   "mimetype": "text/x-python",
   "name": "python",
   "nbconvert_exporter": "python",
   "pygments_lexer": "ipython3",
   "version": "3.7.6"
  }
 },
 "nbformat": 4,
 "nbformat_minor": 1
}
