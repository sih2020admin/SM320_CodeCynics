{
 "cells": [
  {
   "cell_type": "code",
   "execution_count": null,
   "metadata": {
    "colab": {},
    "colab_type": "code",
    "id": "KpSfT8fr3pnn"
   },
   "outputs": [],
   "source": []
  },
  {
   "cell_type": "code",
   "execution_count": 2,
   "metadata": {
    "colab": {
     "base_uri": "https://localhost:8080/",
     "height": 71
    },
    "colab_type": "code",
    "id": "6BrtZjN9CvJW",
    "outputId": "7f5c9eec-c25d-4337-f19a-32f8c1c04e42"
   },
   "outputs": [],
   "source": [
    "import pandas as pd\n",
    "import numpy as np\n",
    "import matplotlib.pyplot as plt\n",
    "import seaborn as sns\n",
    "from sklearn import linear_model , metrics\n",
    "from sklearn.model_selection import train_test_split\n",
    "from sklearn.linear_model import LinearRegression\n",
    "import joblib\n",
    "%matplotlib inline\n",
    "from sklearn.metrics import explained_variance_score,r2_score, max_error, mean_absolute_error, median_absolute_error, mean_squared_error\n",
    "from math import sqrt"
   ]
  },
  {
   "cell_type": "code",
   "execution_count": 3,
   "metadata": {
    "colab": {},
    "colab_type": "code",
    "id": "ZOGYPMMwCvJ0"
   },
   "outputs": [],
   "source": [
    "from plotly import __version__\n",
    "from plotly.offline import download_plotlyjs, init_notebook_mode, plot, iplot\n",
    "import cufflinks as cf"
   ]
  },
  {
   "cell_type": "code",
   "execution_count": 4,
   "metadata": {
    "colab": {
     "base_uri": "https://localhost:8080/",
     "height": 17
    },
    "colab_type": "code",
    "id": "qkZhkiDlCvKF",
    "outputId": "11127192-879a-48b2-d0c0-6601dccd01d3"
   },
   "outputs": [
    {
     "data": {
      "text/html": [
       "        <script type=\"text/javascript\">\n",
       "        window.PlotlyConfig = {MathJaxConfig: 'local'};\n",
       "        if (window.MathJax) {MathJax.Hub.Config({SVG: {font: \"STIX-Web\"}});}\n",
       "        if (typeof require !== 'undefined') {\n",
       "        require.undef(\"plotly\");\n",
       "        requirejs.config({\n",
       "            paths: {\n",
       "                'plotly': ['https://cdn.plot.ly/plotly-latest.min']\n",
       "            }\n",
       "        });\n",
       "        require(['plotly'], function(Plotly) {\n",
       "            window._Plotly = Plotly;\n",
       "        });\n",
       "        }\n",
       "        </script>\n",
       "        "
      ]
     },
     "metadata": {},
     "output_type": "display_data"
    },
    {
     "data": {
      "text/html": [
       "        <script type=\"text/javascript\">\n",
       "        window.PlotlyConfig = {MathJaxConfig: 'local'};\n",
       "        if (window.MathJax) {MathJax.Hub.Config({SVG: {font: \"STIX-Web\"}});}\n",
       "        if (typeof require !== 'undefined') {\n",
       "        require.undef(\"plotly\");\n",
       "        requirejs.config({\n",
       "            paths: {\n",
       "                'plotly': ['https://cdn.plot.ly/plotly-latest.min']\n",
       "            }\n",
       "        });\n",
       "        require(['plotly'], function(Plotly) {\n",
       "            window._Plotly = Plotly;\n",
       "        });\n",
       "        }\n",
       "        </script>\n",
       "        "
      ]
     },
     "metadata": {},
     "output_type": "display_data"
    }
   ],
   "source": [
    "init_notebook_mode(connected=True)\n",
    "cf.go_offline()"
   ]
  },
  {
   "cell_type": "code",
   "execution_count": 5,
   "metadata": {
    "colab": {},
    "colab_type": "code",
    "id": "DErTPH7MCvKe"
   },
   "outputs": [],
   "source": [
    "df=pd.read_csv('HIGHSPEEDDIESEL.csv')"
   ]
  },
  {
   "cell_type": "code",
   "execution_count": 6,
   "metadata": {
    "colab": {
     "base_uri": "https://localhost:8080/",
     "height": 296
    },
    "colab_type": "code",
    "id": "TqGf5AKbCvK9",
    "outputId": "77a04a06-6358-4968-85e1-3f3eb70a229d"
   },
   "outputs": [
    {
     "data": {
      "text/plain": [
       "<matplotlib.axes._subplots.AxesSubplot at 0x180e8d8ed48>"
      ]
     },
     "execution_count": 6,
     "metadata": {},
     "output_type": "execute_result"
    },
    {
     "data": {
      "image/png": "[encoded data removed]",
      "text/plain": [
       "<Figure size 432x288 with 1 Axes>"
      ]
     },
     "metadata": {
      "needs_background": "light"
     },
     "output_type": "display_data"
    }
   ],
   "source": [
    "sns.scatterplot(x='Total Weight',y='Productivity',data=df)"
   ]
  },
  {
   "cell_type": "code",
   "execution_count": 7,
   "metadata": {
    "colab": {
     "base_uri": "https://localhost:8080/",
     "height": 351
    },
    "colab_type": "code",
    "id": "SIZfNHJTCvLP",
    "outputId": "ad04cf99-3dcc-4007-f748-c1b538a0b543"
   },
   "outputs": [
    {
     "data": {
      "text/html": [
       "<div>\n",
       "<style scoped>\n",
       "    .dataframe tbody tr th:only-of-type {\n",
       "        vertical-align: middle;\n",
       "    }\n",
       "\n",
       "    .dataframe tbody tr th {\n",
       "        vertical-align: top;\n",
       "    }\n",
       "\n",
       "    .dataframe thead th {\n",
       "        text-align: right;\n",
       "    }\n",
       "</style>\n",
       "<table border=\"1\" class=\"dataframe\">\n",
       "  <thead>\n",
       "    <tr style=\"text-align: right;\">\n",
       "      <th></th>\n",
       "      <th>Unnamed: 0</th>\n",
       "      <th>VCN</th>\n",
       "      <th>TAT (ATB  -ATUB)\\nHOUR</th>\n",
       "      <th>TAT\\n(ATA - ATD)\\nHOUR</th>\n",
       "      <th>Total Weight</th>\n",
       "      <th>QTY IN LAKH MT</th>\n",
       "      <th>Qty in MMT</th>\n",
       "      <th>TEUs ('000)</th>\n",
       "      <th>Port Delay (Hrs)</th>\n",
       "      <th>Vessel Delay (Hrs)</th>\n",
       "      <th>Productivity</th>\n",
       "      <th>DEAD WT</th>\n",
       "    </tr>\n",
       "  </thead>\n",
       "  <tbody>\n",
       "    <tr>\n",
       "      <th>count</th>\n",
       "      <td>50.000000</td>\n",
       "      <td>50.0000</td>\n",
       "      <td>50.000000</td>\n",
       "      <td>50.000000</td>\n",
       "      <td>50.000000</td>\n",
       "      <td>50.000000</td>\n",
       "      <td>50.00000</td>\n",
       "      <td>50.0</td>\n",
       "      <td>50.000000</td>\n",
       "      <td>50.000000</td>\n",
       "      <td>50.00000</td>\n",
       "      <td>45.000000</td>\n",
       "    </tr>\n",
       "    <tr>\n",
       "      <th>mean</th>\n",
       "      <td>247.220000</td>\n",
       "      <td>193536.0000</td>\n",
       "      <td>38.314800</td>\n",
       "      <td>51.963400</td>\n",
       "      <td>32290.486940</td>\n",
       "      <td>0.323600</td>\n",
       "      <td>0.03236</td>\n",
       "      <td>0.0</td>\n",
       "      <td>0.229200</td>\n",
       "      <td>11.905000</td>\n",
       "      <td>19135.87160</td>\n",
       "      <td>46439.326667</td>\n",
       "    </tr>\n",
       "    <tr>\n",
       "      <th>std</th>\n",
       "      <td>113.702313</td>\n",
       "      <td>3354.7789</td>\n",
       "      <td>20.006341</td>\n",
       "      <td>39.795705</td>\n",
       "      <td>18395.013814</td>\n",
       "      <td>0.183801</td>\n",
       "      <td>0.01838</td>\n",
       "      <td>0.0</td>\n",
       "      <td>1.035888</td>\n",
       "      <td>30.257819</td>\n",
       "      <td>6755.54087</td>\n",
       "      <td>13604.365780</td>\n",
       "    </tr>\n",
       "    <tr>\n",
       "      <th>min</th>\n",
       "      <td>2.000000</td>\n",
       "      <td>190933.0000</td>\n",
       "      <td>0.000000</td>\n",
       "      <td>0.000000</td>\n",
       "      <td>200.000000</td>\n",
       "      <td>0.000000</td>\n",
       "      <td>0.00000</td>\n",
       "      <td>0.0</td>\n",
       "      <td>0.000000</td>\n",
       "      <td>0.000000</td>\n",
       "      <td>176.47000</td>\n",
       "      <td>25196.000000</td>\n",
       "    </tr>\n",
       "    <tr>\n",
       "      <th>25%</th>\n",
       "      <td>226.500000</td>\n",
       "      <td>191565.7500</td>\n",
       "      <td>27.482500</td>\n",
       "      <td>30.672500</td>\n",
       "      <td>19602.404750</td>\n",
       "      <td>0.200000</td>\n",
       "      <td>0.02000</td>\n",
       "      <td>0.0</td>\n",
       "      <td>0.000000</td>\n",
       "      <td>0.000000</td>\n",
       "      <td>14688.10750</td>\n",
       "      <td>40425.000000</td>\n",
       "    </tr>\n",
       "    <tr>\n",
       "      <th>50%</th>\n",
       "      <td>274.500000</td>\n",
       "      <td>192186.5000</td>\n",
       "      <td>37.650000</td>\n",
       "      <td>40.205000</td>\n",
       "      <td>34953.863000</td>\n",
       "      <td>0.350000</td>\n",
       "      <td>0.03500</td>\n",
       "      <td>0.0</td>\n",
       "      <td>0.000000</td>\n",
       "      <td>0.000000</td>\n",
       "      <td>21056.91500</td>\n",
       "      <td>43060.000000</td>\n",
       "    </tr>\n",
       "    <tr>\n",
       "      <th>75%</th>\n",
       "      <td>311.750000</td>\n",
       "      <td>192839.0000</td>\n",
       "      <td>46.250000</td>\n",
       "      <td>65.347500</td>\n",
       "      <td>40053.175750</td>\n",
       "      <td>0.400000</td>\n",
       "      <td>0.04000</td>\n",
       "      <td>0.0</td>\n",
       "      <td>0.000000</td>\n",
       "      <td>0.000000</td>\n",
       "      <td>24285.77750</td>\n",
       "      <td>47621.000000</td>\n",
       "    </tr>\n",
       "    <tr>\n",
       "      <th>max</th>\n",
       "      <td>472.000000</td>\n",
       "      <td>200922.0000</td>\n",
       "      <td>106.200000</td>\n",
       "      <td>215.850000</td>\n",
       "      <td>68000.000000</td>\n",
       "      <td>0.680000</td>\n",
       "      <td>0.06800</td>\n",
       "      <td>0.0</td>\n",
       "      <td>5.600000</td>\n",
       "      <td>153.200000</td>\n",
       "      <td>27290.97000</td>\n",
       "      <td>95605.000000</td>\n",
       "    </tr>\n",
       "  </tbody>\n",
       "</table>\n",
       "</div>"
      ],
      "text/plain": [
       "       Unnamed: 0          VCN  TAT (ATB  -ATUB)\\nHOUR  \\\n",
       "count   50.000000      50.0000               50.000000   \n",
       "mean   247.220000  193536.0000               38.314800   \n",
       "std    113.702313    3354.7789               20.006341   \n",
       "min      2.000000  190933.0000                0.000000   \n",
       "25%    226.500000  191565.7500               27.482500   \n",
       "50%    274.500000  192186.5000               37.650000   \n",
       "75%    311.750000  192839.0000               46.250000   \n",
       "max    472.000000  200922.0000              106.200000   \n",
       "\n",
       "       TAT\\n(ATA - ATD)\\nHOUR  Total Weight  QTY IN LAKH MT  Qty in MMT  \\\n",
       "count               50.000000     50.000000       50.000000    50.00000   \n",
       "mean                51.963400  32290.486940        0.323600     0.03236   \n",
       "std                 39.795705  18395.013814        0.183801     0.01838   \n",
       "min                  0.000000    200.000000        0.000000     0.00000   \n",
       "25%                 30.672500  19602.404750        0.200000     0.02000   \n",
       "50%                 40.205000  34953.863000        0.350000     0.03500   \n",
       "75%                 65.347500  40053.175750        0.400000     0.04000   \n",
       "max                215.850000  68000.000000        0.680000     0.06800   \n",
       "\n",
       "       TEUs ('000)  Port Delay (Hrs)  Vessel Delay (Hrs)  Productivity  \\\n",
       "count         50.0         50.000000           50.000000      50.00000   \n",
       "mean           0.0          0.229200           11.905000   19135.87160   \n",
       "std            0.0          1.035888           30.257819    6755.54087   \n",
       "min            0.0          0.000000            0.000000     176.47000   \n",
       "25%            0.0          0.000000            0.000000   14688.10750   \n",
       "50%            0.0          0.000000            0.000000   21056.91500   \n",
       "75%            0.0          0.000000            0.000000   24285.77750   \n",
       "max            0.0          5.600000          153.200000   27290.97000   \n",
       "\n",
       "            DEAD WT  \n",
       "count     45.000000  \n",
       "mean   46439.326667  \n",
       "std    13604.365780  \n",
       "min    25196.000000  \n",
       "25%    40425.000000  \n",
       "50%    43060.000000  \n",
       "75%    47621.000000  \n",
       "max    95605.000000  "
      ]
     },
     "execution_count": 7,
     "metadata": {},
     "output_type": "execute_result"
    }
   ],
   "source": [
    "df.describe()"
   ]
  },
  {
   "cell_type": "code",
   "execution_count": 8,
   "metadata": {},
   "outputs": [
    {
     "data": {
      "text/html": [
       "<div>\n",
       "<style scoped>\n",
       "    .dataframe tbody tr th:only-of-type {\n",
       "        vertical-align: middle;\n",
       "    }\n",
       "\n",
       "    .dataframe tbody tr th {\n",
       "        vertical-align: top;\n",
       "    }\n",
       "\n",
       "    .dataframe thead th {\n",
       "        text-align: right;\n",
       "    }\n",
       "</style>\n",
       "<table border=\"1\" class=\"dataframe\">\n",
       "  <thead>\n",
       "    <tr style=\"text-align: right;\">\n",
       "      <th></th>\n",
       "      <th>Unnamed: 0</th>\n",
       "      <th>VCN</th>\n",
       "      <th>TAT (ATB  -ATUB)\\nHOUR</th>\n",
       "      <th>TAT\\n(ATA - ATD)\\nHOUR</th>\n",
       "      <th>Total Weight</th>\n",
       "      <th>QTY IN LAKH MT</th>\n",
       "      <th>Qty in MMT</th>\n",
       "      <th>TEUs ('000)</th>\n",
       "      <th>Port Delay (Hrs)</th>\n",
       "      <th>Vessel Delay (Hrs)</th>\n",
       "      <th>Productivity</th>\n",
       "      <th>DEAD WT</th>\n",
       "    </tr>\n",
       "  </thead>\n",
       "  <tbody>\n",
       "    <tr>\n",
       "      <th>count</th>\n",
       "      <td>48.000000</td>\n",
       "      <td>48.000000</td>\n",
       "      <td>48.000000</td>\n",
       "      <td>48.000000</td>\n",
       "      <td>48.000000</td>\n",
       "      <td>48.000000</td>\n",
       "      <td>48.000000</td>\n",
       "      <td>48.0</td>\n",
       "      <td>48.000000</td>\n",
       "      <td>48.000000</td>\n",
       "      <td>48.000000</td>\n",
       "      <td>43.000000</td>\n",
       "    </tr>\n",
       "    <tr>\n",
       "      <th>mean</th>\n",
       "      <td>249.583333</td>\n",
       "      <td>193595.958333</td>\n",
       "      <td>37.698750</td>\n",
       "      <td>51.794167</td>\n",
       "      <td>33491.966958</td>\n",
       "      <td>0.335625</td>\n",
       "      <td>0.033563</td>\n",
       "      <td>0.0</td>\n",
       "      <td>0.238750</td>\n",
       "      <td>12.305625</td>\n",
       "      <td>19897.932083</td>\n",
       "      <td>46706.062791</td>\n",
       "    </tr>\n",
       "    <tr>\n",
       "      <th>std</th>\n",
       "      <td>110.445487</td>\n",
       "      <td>3411.923124</td>\n",
       "      <td>16.959143</td>\n",
       "      <td>38.946018</td>\n",
       "      <td>17761.418523</td>\n",
       "      <td>0.177415</td>\n",
       "      <td>0.017742</td>\n",
       "      <td>0.0</td>\n",
       "      <td>1.056598</td>\n",
       "      <td>30.824885</td>\n",
       "      <td>5721.270890</td>\n",
       "      <td>13864.594579</td>\n",
       "    </tr>\n",
       "    <tr>\n",
       "      <th>min</th>\n",
       "      <td>2.000000</td>\n",
       "      <td>190933.000000</td>\n",
       "      <td>0.000000</td>\n",
       "      <td>0.000000</td>\n",
       "      <td>5886.540000</td>\n",
       "      <td>0.060000</td>\n",
       "      <td>0.006000</td>\n",
       "      <td>0.0</td>\n",
       "      <td>0.000000</td>\n",
       "      <td>0.000000</td>\n",
       "      <td>5341.770000</td>\n",
       "      <td>25196.000000</td>\n",
       "    </tr>\n",
       "    <tr>\n",
       "      <th>25%</th>\n",
       "      <td>229.500000</td>\n",
       "      <td>191543.500000</td>\n",
       "      <td>28.047500</td>\n",
       "      <td>30.857500</td>\n",
       "      <td>19740.956750</td>\n",
       "      <td>0.200000</td>\n",
       "      <td>0.020000</td>\n",
       "      <td>0.0</td>\n",
       "      <td>0.000000</td>\n",
       "      <td>0.000000</td>\n",
       "      <td>15880.892500</td>\n",
       "      <td>40935.000000</td>\n",
       "    </tr>\n",
       "    <tr>\n",
       "      <th>50%</th>\n",
       "      <td>274.500000</td>\n",
       "      <td>192218.500000</td>\n",
       "      <td>37.650000</td>\n",
       "      <td>40.205000</td>\n",
       "      <td>34988.361000</td>\n",
       "      <td>0.350000</td>\n",
       "      <td>0.035000</td>\n",
       "      <td>0.0</td>\n",
       "      <td>0.000000</td>\n",
       "      <td>0.000000</td>\n",
       "      <td>21183.340000</td>\n",
       "      <td>43276.000000</td>\n",
       "    </tr>\n",
       "    <tr>\n",
       "      <th>75%</th>\n",
       "      <td>311.250000</td>\n",
       "      <td>192885.500000</td>\n",
       "      <td>45.950000</td>\n",
       "      <td>62.482500</td>\n",
       "      <td>40065.610000</td>\n",
       "      <td>0.400000</td>\n",
       "      <td>0.040000</td>\n",
       "      <td>0.0</td>\n",
       "      <td>0.000000</td>\n",
       "      <td>0.000000</td>\n",
       "      <td>24444.497500</td>\n",
       "      <td>47750.500000</td>\n",
       "    </tr>\n",
       "    <tr>\n",
       "      <th>max</th>\n",
       "      <td>472.000000</td>\n",
       "      <td>200922.000000</td>\n",
       "      <td>88.000000</td>\n",
       "      <td>215.850000</td>\n",
       "      <td>68000.000000</td>\n",
       "      <td>0.680000</td>\n",
       "      <td>0.068000</td>\n",
       "      <td>0.0</td>\n",
       "      <td>5.600000</td>\n",
       "      <td>153.200000</td>\n",
       "      <td>27290.970000</td>\n",
       "      <td>95605.000000</td>\n",
       "    </tr>\n",
       "  </tbody>\n",
       "</table>\n",
       "</div>"
      ],
      "text/plain": [
       "       Unnamed: 0            VCN  TAT (ATB  -ATUB)\\nHOUR  \\\n",
       "count   48.000000      48.000000               48.000000   \n",
       "mean   249.583333  193595.958333               37.698750   \n",
       "std    110.445487    3411.923124               16.959143   \n",
       "min      2.000000  190933.000000                0.000000   \n",
       "25%    229.500000  191543.500000               28.047500   \n",
       "50%    274.500000  192218.500000               37.650000   \n",
       "75%    311.250000  192885.500000               45.950000   \n",
       "max    472.000000  200922.000000               88.000000   \n",
       "\n",
       "       TAT\\n(ATA - ATD)\\nHOUR  Total Weight  QTY IN LAKH MT  Qty in MMT  \\\n",
       "count               48.000000     48.000000       48.000000   48.000000   \n",
       "mean                51.794167  33491.966958        0.335625    0.033563   \n",
       "std                 38.946018  17761.418523        0.177415    0.017742   \n",
       "min                  0.000000   5886.540000        0.060000    0.006000   \n",
       "25%                 30.857500  19740.956750        0.200000    0.020000   \n",
       "50%                 40.205000  34988.361000        0.350000    0.035000   \n",
       "75%                 62.482500  40065.610000        0.400000    0.040000   \n",
       "max                215.850000  68000.000000        0.680000    0.068000   \n",
       "\n",
       "       TEUs ('000)  Port Delay (Hrs)  Vessel Delay (Hrs)  Productivity  \\\n",
       "count         48.0         48.000000           48.000000     48.000000   \n",
       "mean           0.0          0.238750           12.305625  19897.932083   \n",
       "std            0.0          1.056598           30.824885   5721.270890   \n",
       "min            0.0          0.000000            0.000000   5341.770000   \n",
       "25%            0.0          0.000000            0.000000  15880.892500   \n",
       "50%            0.0          0.000000            0.000000  21183.340000   \n",
       "75%            0.0          0.000000            0.000000  24444.497500   \n",
       "max            0.0          5.600000          153.200000  27290.970000   \n",
       "\n",
       "            DEAD WT  \n",
       "count     43.000000  \n",
       "mean   46706.062791  \n",
       "std    13864.594579  \n",
       "min    25196.000000  \n",
       "25%    40935.000000  \n",
       "50%    43276.000000  \n",
       "75%    47750.500000  \n",
       "max    95605.000000  "
      ]
     },
     "execution_count": 8,
     "metadata": {},
     "output_type": "execute_result"
    }
   ],
   "source": [
    "df=df[df['Productivity']>2500]\n",
    "df.describe()"
   ]
  },
  {
   "cell_type": "code",
   "execution_count": 9,
   "metadata": {
    "colab": {},
    "colab_type": "code",
    "id": "UBoJddWGCvLh"
   },
   "outputs": [],
   "source": [
    "X=df[['Total Weight']]\n",
    "y=df['Productivity']\n",
    "X_train, X_test, y_train, y_test = train_test_split(X, y, test_size=0.33, random_state=1)"
   ]
  },
  {
   "cell_type": "code",
   "execution_count": 10,
   "metadata": {
    "colab": {
     "base_uri": "https://localhost:8080/",
     "height": 34
    },
    "colab_type": "code",
    "id": "cf46FgNBCvL0",
    "outputId": "489d0489-4df2-4646-a7f6-fd4060cd6486"
   },
   "outputs": [
    {
     "data": {
      "text/plain": [
       "LinearRegression(copy_X=True, fit_intercept=True, n_jobs=None, normalize=False)"
      ]
     },
     "execution_count": 10,
     "metadata": {},
     "output_type": "execute_result"
    }
   ],
   "source": [
    "lm=LinearRegression()\n",
    "lm.fit(X_train,y_train)"
   ]
  },
  {
   "cell_type": "code",
   "execution_count": 11,
   "metadata": {
    "colab": {
     "base_uri": "https://localhost:8080/",
     "height": 34
    },
    "colab_type": "code",
    "id": "sng0WAz1CvMG",
    "outputId": "3c5e9f5a-4050-41c8-961a-8b7c955285eb"
   },
   "outputs": [
    {
     "name": "stdout",
     "output_type": "stream",
     "text": [
      "11001.33011900929\n"
     ]
    }
   ],
   "source": [
    "print(lm.intercept_)"
   ]
  },
  {
   "cell_type": "code",
   "execution_count": 12,
   "metadata": {
    "colab": {
     "base_uri": "https://localhost:8080/",
     "height": 80
    },
    "colab_type": "code",
    "id": "hDYCb50bCvMW",
    "outputId": "727bfd1a-ea24-43de-bc37-c804bd6bb433"
   },
   "outputs": [
    {
     "data": {
      "text/html": [
       "<div>\n",
       "<style scoped>\n",
       "    .dataframe tbody tr th:only-of-type {\n",
       "        vertical-align: middle;\n",
       "    }\n",
       "\n",
       "    .dataframe tbody tr th {\n",
       "        vertical-align: top;\n",
       "    }\n",
       "\n",
       "    .dataframe thead th {\n",
       "        text-align: right;\n",
       "    }\n",
       "</style>\n",
       "<table border=\"1\" class=\"dataframe\">\n",
       "  <thead>\n",
       "    <tr style=\"text-align: right;\">\n",
       "      <th></th>\n",
       "      <th>Coefficient</th>\n",
       "    </tr>\n",
       "  </thead>\n",
       "  <tbody>\n",
       "    <tr>\n",
       "      <th>Total Weight</th>\n",
       "      <td>0.267131</td>\n",
       "    </tr>\n",
       "  </tbody>\n",
       "</table>\n",
       "</div>"
      ],
      "text/plain": [
       "              Coefficient\n",
       "Total Weight     0.267131"
      ]
     },
     "execution_count": 12,
     "metadata": {},
     "output_type": "execute_result"
    }
   ],
   "source": [
    "coeff_df = pd.DataFrame(lm.coef_,X.columns,columns=['Coefficient'])\n",
    "coeff_df"
   ]
  },
  {
   "cell_type": "code",
   "execution_count": 13,
   "metadata": {
    "colab": {},
    "colab_type": "code",
    "id": "_YUS43zuCvMo"
   },
   "outputs": [],
   "source": [
    "predictions = lm.predict(X_test)"
   ]
  },
  {
   "cell_type": "code",
   "execution_count": 14,
   "metadata": {
    "colab": {
     "base_uri": "https://localhost:8080/",
     "height": 68
    },
    "colab_type": "code",
    "id": "p73JC1UlCvM4",
    "outputId": "25a08f1a-94a6-4fed-8a38-0ff4006d2173"
   },
   "outputs": [
    {
     "name": "stdout",
     "output_type": "stream",
     "text": [
      "MAE: 2024.7862445335547\n",
      "MSE: 6209631.595751851\n",
      "RMSE: 2491.9132400129524\n",
      "r2_score: 0.6914718791635557\n"
     ]
    }
   ],
   "source": [
    "print('MAE:', metrics.mean_absolute_error(y_test, predictions))\n",
    "print('MSE:', metrics.mean_squared_error(y_test, predictions))\n",
    "print('RMSE:', np.sqrt(metrics.mean_squared_error(y_test, predictions)))#Main\n",
    "print('r2_score:',r2_score(y_test, predictions))"
   ]
  },
  {
   "cell_type": "code",
   "execution_count": 15,
   "metadata": {},
   "outputs": [
    {
     "data": {
      "text/plain": [
       "[<matplotlib.lines.Line2D at 0x180e9566ac8>]"
      ]
     },
     "execution_count": 15,
     "metadata": {},
     "output_type": "execute_result"
    },
    {
     "data": {
      "image/png": "[encoded data removed]",
      "text/plain": [
       "<Figure size 432x288 with 1 Axes>"
      ]
     },
     "metadata": {
      "needs_background": "light"
     },
     "output_type": "display_data"
    }
   ],
   "source": [
    "plt.scatter(X,y, color='red')\n",
    "plt.plot(X_test, predictions,color=\"blue\")"
   ]
  },
  {
   "cell_type": "code",
   "execution_count": 16,
   "metadata": {
    "colab": {
     "base_uri": "https://localhost:8080/",
     "height": 34
    },
    "colab_type": "code",
    "id": "8X9Us0ylCvNK",
    "outputId": "85897d1a-0eaf-4496-f7f9-9926d4213e13"
   },
   "outputs": [
    {
     "data": {
      "text/plain": [
       "['High_Speed_Diesel.pkl']"
      ]
     },
     "execution_count": 16,
     "metadata": {},
     "output_type": "execute_result"
    }
   ],
   "source": [
    "joblib.dump(lm,\"High_Speed_Diesel.pkl\")#only execute if rmse is less than half of mean of productivity"
   ]
  },
  {
   "cell_type": "code",
   "execution_count": null,
   "metadata": {
    "colab": {},
    "colab_type": "code",
    "id": "0BUG9hB6CvNc"
   },
   "outputs": [],
   "source": []
  }
 ],
 "metadata": {
  "colab": {
   "name": "High_Speed_Diesel.ipynb",
   "provenance": []
  },
  "kernelspec": {
   "display_name": "Python 3",
   "language": "python",
   "name": "python3"
  },
  "language_info": {
   "codemirror_mode": {
    "name": "ipython",
    "version": 3
   },
   "file_extension": ".py",
   "mimetype": "text/x-python",
   "name": "python",
   "nbconvert_exporter": "python",
   "pygments_lexer": "ipython3",
   "version": "3.7.6"
  }
 },
 "nbformat": 4,
 "nbformat_minor": 1
}
