{
 "cells": [
  {
   "cell_type": "code",
   "execution_count": null,
   "metadata": {
    "colab": {},
    "colab_type": "code",
    "id": "H9kjWlXb3oQm"
   },
   "outputs": [],
   "source": []
  },
  {
   "cell_type": "code",
   "execution_count": 45,
   "metadata": {
    "colab": {},
    "colab_type": "code",
    "id": "6BrtZjN9CvJW"
   },
   "outputs": [],
   "source": [
    "import pandas as pd\n",
    "import numpy as np\n",
    "import matplotlib.pyplot as plt\n",
    "import seaborn as sns\n",
    "from sklearn import linear_model , metrics\n",
    "from sklearn.model_selection import train_test_split\n",
    "from sklearn.linear_model import LinearRegression\n",
    "from sklearn.metrics import explained_variance_score,r2_score,max_error,mean_absolute_error,median_absolute_error,mean_squared_error\n",
    "from math import sqrt\n",
    "import joblib\n",
    "%matplotlib inline"
   ]
  },
  {
   "cell_type": "code",
   "execution_count": 46,
   "metadata": {
    "colab": {},
    "colab_type": "code",
    "id": "ZOGYPMMwCvJ0"
   },
   "outputs": [],
   "source": [
    "from plotly import __version__\n",
    "from plotly.offline import download_plotlyjs, init_notebook_mode, plot, iplot\n",
    "import cufflinks as cf"
   ]
  },
  {
   "cell_type": "code",
   "execution_count": 47,
   "metadata": {
    "colab": {
     "base_uri": "https://localhost:8080/",
     "height": 17
    },
    "colab_type": "code",
    "id": "qkZhkiDlCvKF",
    "outputId": "63813ea3-165f-498e-e0bc-fdaf55ffc60d"
   },
   "outputs": [
    {
     "data": {
      "text/html": [
       "        <script type=\"text/javascript\">\n",
       "        window.PlotlyConfig = {MathJaxConfig: 'local'};\n",
       "        if (window.MathJax) {MathJax.Hub.Config({SVG: {font: \"STIX-Web\"}});}\n",
       "        if (typeof require !== 'undefined') {\n",
       "        require.undef(\"plotly\");\n",
       "        requirejs.config({\n",
       "            paths: {\n",
       "                'plotly': ['https://cdn.plot.ly/plotly-latest.min']\n",
       "            }\n",
       "        });\n",
       "        require(['plotly'], function(Plotly) {\n",
       "            window._Plotly = Plotly;\n",
       "        });\n",
       "        }\n",
       "        </script>\n",
       "        "
      ]
     },
     "metadata": {},
     "output_type": "display_data"
    },
    {
     "data": {
      "text/html": [
       "        <script type=\"text/javascript\">\n",
       "        window.PlotlyConfig = {MathJaxConfig: 'local'};\n",
       "        if (window.MathJax) {MathJax.Hub.Config({SVG: {font: \"STIX-Web\"}});}\n",
       "        if (typeof require !== 'undefined') {\n",
       "        require.undef(\"plotly\");\n",
       "        requirejs.config({\n",
       "            paths: {\n",
       "                'plotly': ['https://cdn.plot.ly/plotly-latest.min']\n",
       "            }\n",
       "        });\n",
       "        require(['plotly'], function(Plotly) {\n",
       "            window._Plotly = Plotly;\n",
       "        });\n",
       "        }\n",
       "        </script>\n",
       "        "
      ]
     },
     "metadata": {},
     "output_type": "display_data"
    }
   ],
   "source": [
    "init_notebook_mode(connected=True)\n",
    "cf.go_offline()"
   ]
  },
  {
   "cell_type": "code",
   "execution_count": 48,
   "metadata": {
    "colab": {},
    "colab_type": "code",
    "id": "DErTPH7MCvKe"
   },
   "outputs": [],
   "source": [
    "df=pd.read_csv('LINEARALKYLBENZENE.csv')"
   ]
  },
  {
   "cell_type": "code",
   "execution_count": 49,
   "metadata": {
    "colab": {
     "base_uri": "https://localhost:8080/",
     "height": 300
    },
    "colab_type": "code",
    "id": "TqGf5AKbCvK9",
    "outputId": "0ba252bb-cd2e-4fca-9d03-c89de3eaeb1e"
   },
   "outputs": [
    {
     "data": {
      "text/plain": [
       "<matplotlib.axes._subplots.AxesSubplot at 0x1cb7d9ca788>"
      ]
     },
     "execution_count": 49,
     "metadata": {},
     "output_type": "execute_result"
    },
    {
     "data": {
      "image/png": "[encoded data removed]",
      "text/plain": [
       "<Figure size 432x288 with 1 Axes>"
      ]
     },
     "metadata": {
      "needs_background": "light"
     },
     "output_type": "display_data"
    }
   ],
   "source": [
    "sns.scatterplot(x='Total Weight',y='Productivity',data=df)"
   ]
  },
  {
   "cell_type": "code",
   "execution_count": 50,
   "metadata": {
    "colab": {
     "base_uri": "https://localhost:8080/",
     "height": 351
    },
    "colab_type": "code",
    "id": "SIZfNHJTCvLP",
    "outputId": "13d866db-a5da-4951-ec8a-60e2e569b157"
   },
   "outputs": [
    {
     "data": {
      "text/html": [
       "<div>\n",
       "<style scoped>\n",
       "    .dataframe tbody tr th:only-of-type {\n",
       "        vertical-align: middle;\n",
       "    }\n",
       "\n",
       "    .dataframe tbody tr th {\n",
       "        vertical-align: top;\n",
       "    }\n",
       "\n",
       "    .dataframe thead th {\n",
       "        text-align: right;\n",
       "    }\n",
       "</style>\n",
       "<table border=\"1\" class=\"dataframe\">\n",
       "  <thead>\n",
       "    <tr style=\"text-align: right;\">\n",
       "      <th></th>\n",
       "      <th>Unnamed: 0</th>\n",
       "      <th>VCN</th>\n",
       "      <th>TAT (ATB  -ATUB)\\nHOUR</th>\n",
       "      <th>TAT\\n(ATA - ATD)\\nHOUR</th>\n",
       "      <th>Total Weight</th>\n",
       "      <th>QTY IN LAKH MT</th>\n",
       "      <th>Qty in MMT</th>\n",
       "      <th>TEUs ('000)</th>\n",
       "      <th>Port Delay (Hrs)</th>\n",
       "      <th>Vessel Delay (Hrs)</th>\n",
       "      <th>Productivity</th>\n",
       "      <th>DEAD WT</th>\n",
       "    </tr>\n",
       "  </thead>\n",
       "  <tbody>\n",
       "    <tr>\n",
       "      <th>count</th>\n",
       "      <td>24.000000</td>\n",
       "      <td>24.000000</td>\n",
       "      <td>24.000000</td>\n",
       "      <td>24.000000</td>\n",
       "      <td>24.000000</td>\n",
       "      <td>24.000000</td>\n",
       "      <td>24.000000</td>\n",
       "      <td>24.0</td>\n",
       "      <td>24.000000</td>\n",
       "      <td>24.00000</td>\n",
       "      <td>24.000000</td>\n",
       "      <td>21.000000</td>\n",
       "    </tr>\n",
       "    <tr>\n",
       "      <th>mean</th>\n",
       "      <td>272.708333</td>\n",
       "      <td>194020.958333</td>\n",
       "      <td>13.791667</td>\n",
       "      <td>15.578333</td>\n",
       "      <td>1430.336875</td>\n",
       "      <td>0.014167</td>\n",
       "      <td>0.001417</td>\n",
       "      <td>0.0</td>\n",
       "      <td>1.182083</td>\n",
       "      <td>0.02000</td>\n",
       "      <td>1574.113750</td>\n",
       "      <td>13248.296667</td>\n",
       "    </tr>\n",
       "    <tr>\n",
       "      <th>std</th>\n",
       "      <td>125.939419</td>\n",
       "      <td>3882.067574</td>\n",
       "      <td>18.412223</td>\n",
       "      <td>19.465547</td>\n",
       "      <td>797.466223</td>\n",
       "      <td>0.008805</td>\n",
       "      <td>0.000881</td>\n",
       "      <td>0.0</td>\n",
       "      <td>2.618772</td>\n",
       "      <td>0.09798</td>\n",
       "      <td>864.950851</td>\n",
       "      <td>2463.085663</td>\n",
       "    </tr>\n",
       "    <tr>\n",
       "      <th>min</th>\n",
       "      <td>36.000000</td>\n",
       "      <td>191234.000000</td>\n",
       "      <td>0.000000</td>\n",
       "      <td>0.000000</td>\n",
       "      <td>258.285000</td>\n",
       "      <td>0.000000</td>\n",
       "      <td>0.000000</td>\n",
       "      <td>0.0</td>\n",
       "      <td>0.000000</td>\n",
       "      <td>0.00000</td>\n",
       "      <td>197.630000</td>\n",
       "      <td>9041.000000</td>\n",
       "    </tr>\n",
       "    <tr>\n",
       "      <th>25%</th>\n",
       "      <td>144.750000</td>\n",
       "      <td>191474.000000</td>\n",
       "      <td>0.000000</td>\n",
       "      <td>0.000000</td>\n",
       "      <td>1008.654750</td>\n",
       "      <td>0.010000</td>\n",
       "      <td>0.001000</td>\n",
       "      <td>0.0</td>\n",
       "      <td>0.000000</td>\n",
       "      <td>0.00000</td>\n",
       "      <td>963.270000</td>\n",
       "      <td>12114.000000</td>\n",
       "    </tr>\n",
       "    <tr>\n",
       "      <th>50%</th>\n",
       "      <td>288.500000</td>\n",
       "      <td>192268.000000</td>\n",
       "      <td>10.400000</td>\n",
       "      <td>12.235000</td>\n",
       "      <td>1050.000000</td>\n",
       "      <td>0.010000</td>\n",
       "      <td>0.001000</td>\n",
       "      <td>0.0</td>\n",
       "      <td>0.000000</td>\n",
       "      <td>0.00000</td>\n",
       "      <td>1195.980000</td>\n",
       "      <td>12874.810000</td>\n",
       "    </tr>\n",
       "    <tr>\n",
       "      <th>75%</th>\n",
       "      <td>342.000000</td>\n",
       "      <td>194402.250000</td>\n",
       "      <td>20.225000</td>\n",
       "      <td>22.775000</td>\n",
       "      <td>1928.078500</td>\n",
       "      <td>0.020000</td>\n",
       "      <td>0.002000</td>\n",
       "      <td>0.0</td>\n",
       "      <td>0.000000</td>\n",
       "      <td>0.00000</td>\n",
       "      <td>2163.540000</td>\n",
       "      <td>15358.700000</td>\n",
       "    </tr>\n",
       "    <tr>\n",
       "      <th>max</th>\n",
       "      <td>500.000000</td>\n",
       "      <td>200919.000000</td>\n",
       "      <td>76.830000</td>\n",
       "      <td>78.370000</td>\n",
       "      <td>3666.380000</td>\n",
       "      <td>0.040000</td>\n",
       "      <td>0.004000</td>\n",
       "      <td>0.0</td>\n",
       "      <td>9.200000</td>\n",
       "      <td>0.48000</td>\n",
       "      <td>3345.750000</td>\n",
       "      <td>18433.200000</td>\n",
       "    </tr>\n",
       "  </tbody>\n",
       "</table>\n",
       "</div>"
      ],
      "text/plain": [
       "       Unnamed: 0            VCN  TAT (ATB  -ATUB)\\nHOUR  \\\n",
       "count   24.000000      24.000000               24.000000   \n",
       "mean   272.708333  194020.958333               13.791667   \n",
       "std    125.939419    3882.067574               18.412223   \n",
       "min     36.000000  191234.000000                0.000000   \n",
       "25%    144.750000  191474.000000                0.000000   \n",
       "50%    288.500000  192268.000000               10.400000   \n",
       "75%    342.000000  194402.250000               20.225000   \n",
       "max    500.000000  200919.000000               76.830000   \n",
       "\n",
       "       TAT\\n(ATA - ATD)\\nHOUR  Total Weight  QTY IN LAKH MT  Qty in MMT  \\\n",
       "count               24.000000     24.000000       24.000000   24.000000   \n",
       "mean                15.578333   1430.336875        0.014167    0.001417   \n",
       "std                 19.465547    797.466223        0.008805    0.000881   \n",
       "min                  0.000000    258.285000        0.000000    0.000000   \n",
       "25%                  0.000000   1008.654750        0.010000    0.001000   \n",
       "50%                 12.235000   1050.000000        0.010000    0.001000   \n",
       "75%                 22.775000   1928.078500        0.020000    0.002000   \n",
       "max                 78.370000   3666.380000        0.040000    0.004000   \n",
       "\n",
       "       TEUs ('000)  Port Delay (Hrs)  Vessel Delay (Hrs)  Productivity  \\\n",
       "count         24.0         24.000000            24.00000     24.000000   \n",
       "mean           0.0          1.182083             0.02000   1574.113750   \n",
       "std            0.0          2.618772             0.09798    864.950851   \n",
       "min            0.0          0.000000             0.00000    197.630000   \n",
       "25%            0.0          0.000000             0.00000    963.270000   \n",
       "50%            0.0          0.000000             0.00000   1195.980000   \n",
       "75%            0.0          0.000000             0.00000   2163.540000   \n",
       "max            0.0          9.200000             0.48000   3345.750000   \n",
       "\n",
       "            DEAD WT  \n",
       "count     21.000000  \n",
       "mean   13248.296667  \n",
       "std     2463.085663  \n",
       "min     9041.000000  \n",
       "25%    12114.000000  \n",
       "50%    12874.810000  \n",
       "75%    15358.700000  \n",
       "max    18433.200000  "
      ]
     },
     "execution_count": 50,
     "metadata": {},
     "output_type": "execute_result"
    }
   ],
   "source": [
    "df.describe()"
   ]
  },
  {
   "cell_type": "code",
   "execution_count": 51,
   "metadata": {
    "colab": {},
    "colab_type": "code",
    "id": "UBoJddWGCvLh"
   },
   "outputs": [],
   "source": [
    "X=df[['Total Weight']]\n",
    "y=df['Productivity']\n",
    "X_train, X_test, y_train, y_test = train_test_split(X, y, test_size=0.6, random_state=1)"
   ]
  },
  {
   "cell_type": "code",
   "execution_count": 52,
   "metadata": {
    "colab": {
     "base_uri": "https://localhost:8080/",
     "height": 34
    },
    "colab_type": "code",
    "id": "cf46FgNBCvL0",
    "outputId": "7f720a8c-18b4-4904-ac1f-6884ddec604f"
   },
   "outputs": [
    {
     "data": {
      "text/plain": [
       "LinearRegression(copy_X=True, fit_intercept=True, n_jobs=None, normalize=False)"
      ]
     },
     "execution_count": 52,
     "metadata": {},
     "output_type": "execute_result"
    }
   ],
   "source": [
    "lm=LinearRegression()\n",
    "lm.fit(X_train,y_train)"
   ]
  },
  {
   "cell_type": "code",
   "execution_count": 53,
   "metadata": {
    "colab": {
     "base_uri": "https://localhost:8080/",
     "height": 34
    },
    "colab_type": "code",
    "id": "sng0WAz1CvMG",
    "outputId": "564d4ba4-f573-40fc-f8a5-833b1762a8ce"
   },
   "outputs": [
    {
     "name": "stdout",
     "output_type": "stream",
     "text": [
      "749.8213892984219\n"
     ]
    }
   ],
   "source": [
    "print(lm.intercept_)"
   ]
  },
  {
   "cell_type": "code",
   "execution_count": 54,
   "metadata": {
    "colab": {
     "base_uri": "https://localhost:8080/",
     "height": 80
    },
    "colab_type": "code",
    "id": "hDYCb50bCvMW",
    "outputId": "00e92443-0b3c-461f-f113-d6d1c760635a"
   },
   "outputs": [
    {
     "data": {
      "text/html": [
       "<div>\n",
       "<style scoped>\n",
       "    .dataframe tbody tr th:only-of-type {\n",
       "        vertical-align: middle;\n",
       "    }\n",
       "\n",
       "    .dataframe tbody tr th {\n",
       "        vertical-align: top;\n",
       "    }\n",
       "\n",
       "    .dataframe thead th {\n",
       "        text-align: right;\n",
       "    }\n",
       "</style>\n",
       "<table border=\"1\" class=\"dataframe\">\n",
       "  <thead>\n",
       "    <tr style=\"text-align: right;\">\n",
       "      <th></th>\n",
       "      <th>Coefficient</th>\n",
       "    </tr>\n",
       "  </thead>\n",
       "  <tbody>\n",
       "    <tr>\n",
       "      <th>Total Weight</th>\n",
       "      <td>0.560709</td>\n",
       "    </tr>\n",
       "  </tbody>\n",
       "</table>\n",
       "</div>"
      ],
      "text/plain": [
       "              Coefficient\n",
       "Total Weight     0.560709"
      ]
     },
     "execution_count": 54,
     "metadata": {},
     "output_type": "execute_result"
    }
   ],
   "source": [
    "coeff_df = pd.DataFrame(lm.coef_,X.columns,columns=['Coefficient'])\n",
    "coeff_df"
   ]
  },
  {
   "cell_type": "code",
   "execution_count": 55,
   "metadata": {
    "colab": {},
    "colab_type": "code",
    "id": "_YUS43zuCvMo"
   },
   "outputs": [],
   "source": [
    "predictions = lm.predict(X_test)"
   ]
  },
  {
   "cell_type": "code",
   "execution_count": 56,
   "metadata": {},
   "outputs": [
    {
     "data": {
      "text/plain": [
       "[<matplotlib.lines.Line2D at 0x1cb7da29ec8>]"
      ]
     },
     "execution_count": 56,
     "metadata": {},
     "output_type": "execute_result"
    },
    {
     "data": {
      "image/png": "[encoded data removed]",
      "text/plain": [
       "<Figure size 432x288 with 1 Axes>"
      ]
     },
     "metadata": {
      "needs_background": "light"
     },
     "output_type": "display_data"
    }
   ],
   "source": [
    "plt.scatter(X,y,color=\"red\")\n",
    "plt.plot(X_test, predictions, color=\"blue\")"
   ]
  },
  {
   "cell_type": "code",
   "execution_count": 57,
   "metadata": {
    "colab": {
     "base_uri": "https://localhost:8080/",
     "height": 68
    },
    "colab_type": "code",
    "id": "p73JC1UlCvM4",
    "outputId": "339b69b9-749a-455f-d787-c3c6526e030d"
   },
   "outputs": [
    {
     "name": "stdout",
     "output_type": "stream",
     "text": [
      "MAE: 539.6906977906131\n",
      "MSE: 516256.5233823745\n",
      "RMSE: 718.5099326956966\n",
      "r2_score: 0.3857889114023435\n"
     ]
    }
   ],
   "source": [
    "print('MAE:', metrics.mean_absolute_error(y_test, predictions))\n",
    "print('MSE:', metrics.mean_squared_error(y_test, predictions))\n",
    "print('RMSE:', np.sqrt(metrics.mean_squared_error(y_test, predictions)))#Main\n",
    "print('r2_score:',r2_score(y_test,predictions))"
   ]
  },
  {
   "cell_type": "code",
   "execution_count": 58,
   "metadata": {
    "colab": {},
    "colab_type": "code",
    "id": "8X9Us0ylCvNK"
   },
   "outputs": [],
   "source": [
    "#joblib.dump(lm,\"Linear_Alkyl_Benzene.pkl\")#only execute if rmse is less than half of mean of productivity"
   ]
  },
  {
   "cell_type": "code",
   "execution_count": null,
   "metadata": {
    "colab": {},
    "colab_type": "code",
    "id": "0BUG9hB6CvNc"
   },
   "outputs": [],
   "source": []
  }
 ],
 "metadata": {
  "colab": {
   "name": "Linear_Alkyl_Benzene.ipynb",
   "provenance": []
  },
  "kernelspec": {
   "display_name": "Python 3",
   "language": "python",
   "name": "python3"
  },
  "language_info": {
   "codemirror_mode": {
    "name": "ipython",
    "version": 3
   },
   "file_extension": ".py",
   "mimetype": "text/x-python",
   "name": "python",
   "nbconvert_exporter": "python",
   "pygments_lexer": "ipython3",
   "version": "3.7.6"
  }
 },
 "nbformat": 4,
 "nbformat_minor": 1
}
