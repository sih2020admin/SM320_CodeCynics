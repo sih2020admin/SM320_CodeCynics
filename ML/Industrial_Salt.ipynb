{
 "cells": [
  {
   "cell_type": "code",
   "execution_count": 204,
   "metadata": {},
   "outputs": [],
   "source": [
    "import pandas as pd\n",
    "import numpy as np\n",
    "import matplotlib.pyplot as plt\n",
    "import seaborn as sns\n",
    "from sklearn import linear_model , metrics\n",
    "from sklearn.model_selection import train_test_split\n",
    "from sklearn.linear_model import LinearRegression\n",
    "import joblib\n",
    "%matplotlib inline\n",
    "from sklearn.metrics import explained_variance_score,r2_score, max_error, mean_absolute_error, median_absolute_error, mean_squared_error\n",
    "from math import sqrt"
   ]
  },
  {
   "cell_type": "code",
   "execution_count": 205,
   "metadata": {},
   "outputs": [],
   "source": [
    "from plotly import __version__\n",
    "from plotly.offline import download_plotlyjs, init_notebook_mode, plot, iplot\n",
    "import cufflinks as cf"
   ]
  },
  {
   "cell_type": "code",
   "execution_count": 206,
   "metadata": {},
   "outputs": [
    {
     "data": {
      "text/html": [
       "        <script type=\"text/javascript\">\n",
       "        window.PlotlyConfig = {MathJaxConfig: 'local'};\n",
       "        if (window.MathJax) {MathJax.Hub.Config({SVG: {font: \"STIX-Web\"}});}\n",
       "        if (typeof require !== 'undefined') {\n",
       "        require.undef(\"plotly\");\n",
       "        requirejs.config({\n",
       "            paths: {\n",
       "                'plotly': ['https://cdn.plot.ly/plotly-latest.min']\n",
       "            }\n",
       "        });\n",
       "        require(['plotly'], function(Plotly) {\n",
       "            window._Plotly = Plotly;\n",
       "        });\n",
       "        }\n",
       "        </script>\n",
       "        "
      ]
     },
     "metadata": {},
     "output_type": "display_data"
    },
    {
     "data": {
      "text/html": [
       "        <script type=\"text/javascript\">\n",
       "        window.PlotlyConfig = {MathJaxConfig: 'local'};\n",
       "        if (window.MathJax) {MathJax.Hub.Config({SVG: {font: \"STIX-Web\"}});}\n",
       "        if (typeof require !== 'undefined') {\n",
       "        require.undef(\"plotly\");\n",
       "        requirejs.config({\n",
       "            paths: {\n",
       "                'plotly': ['https://cdn.plot.ly/plotly-latest.min']\n",
       "            }\n",
       "        });\n",
       "        require(['plotly'], function(Plotly) {\n",
       "            window._Plotly = Plotly;\n",
       "        });\n",
       "        }\n",
       "        </script>\n",
       "        "
      ]
     },
     "metadata": {},
     "output_type": "display_data"
    }
   ],
   "source": [
    "init_notebook_mode(connected=True)\n",
    "cf.go_offline()"
   ]
  },
  {
   "cell_type": "code",
   "execution_count": 207,
   "metadata": {},
   "outputs": [],
   "source": [
    "df=pd.read_csv('INDUSTRIALSALT.csv')"
   ]
  },
  {
   "cell_type": "code",
   "execution_count": 208,
   "metadata": {},
   "outputs": [
    {
     "data": {
      "text/plain": [
       "<matplotlib.axes._subplots.AxesSubplot at 0x12358e9d4c8>"
      ]
     },
     "execution_count": 208,
     "metadata": {},
     "output_type": "execute_result"
    },
    {
     "data": {
      "image/png": "[encoded data removed]",
      "text/plain": [
       "<Figure size 432x288 with 1 Axes>"
      ]
     },
     "metadata": {
      "needs_background": "light"
     },
     "output_type": "display_data"
    }
   ],
   "source": [
    "sns.scatterplot(x='Total Weight',y='Productivity',data=df)"
   ]
  },
  {
   "cell_type": "code",
   "execution_count": 209,
   "metadata": {},
   "outputs": [
    {
     "data": {
      "text/html": [
       "<div>\n",
       "<style scoped>\n",
       "    .dataframe tbody tr th:only-of-type {\n",
       "        vertical-align: middle;\n",
       "    }\n",
       "\n",
       "    .dataframe tbody tr th {\n",
       "        vertical-align: top;\n",
       "    }\n",
       "\n",
       "    .dataframe thead th {\n",
       "        text-align: right;\n",
       "    }\n",
       "</style>\n",
       "<table border=\"1\" class=\"dataframe\">\n",
       "  <thead>\n",
       "    <tr style=\"text-align: right;\">\n",
       "      <th></th>\n",
       "      <th>Unnamed: 0</th>\n",
       "      <th>VCN</th>\n",
       "      <th>TAT (ATB  -ATUB)\\nHOUR</th>\n",
       "      <th>TAT\\n(ATA - ATD)\\nHOUR</th>\n",
       "      <th>Total Weight</th>\n",
       "      <th>QTY IN LAKH MT</th>\n",
       "      <th>Qty in MMT</th>\n",
       "      <th>TEUs ('000)</th>\n",
       "      <th>Port Delay (Hrs)</th>\n",
       "      <th>Vessel Delay (Hrs)</th>\n",
       "      <th>Productivity</th>\n",
       "      <th>DEAD WT</th>\n",
       "    </tr>\n",
       "  </thead>\n",
       "  <tbody>\n",
       "    <tr>\n",
       "      <th>count</th>\n",
       "      <td>38.000000</td>\n",
       "      <td>38.000000</td>\n",
       "      <td>38.000000</td>\n",
       "      <td>38.000000</td>\n",
       "      <td>38.000000</td>\n",
       "      <td>38.000000</td>\n",
       "      <td>38.000000</td>\n",
       "      <td>38.0</td>\n",
       "      <td>38.000000</td>\n",
       "      <td>38.000000</td>\n",
       "      <td>38.000000</td>\n",
       "      <td>33.000000</td>\n",
       "    </tr>\n",
       "    <tr>\n",
       "      <th>mean</th>\n",
       "      <td>1249.815789</td>\n",
       "      <td>192285.236842</td>\n",
       "      <td>52.023158</td>\n",
       "      <td>68.454211</td>\n",
       "      <td>41597.684211</td>\n",
       "      <td>0.416316</td>\n",
       "      <td>0.041632</td>\n",
       "      <td>0.0</td>\n",
       "      <td>6.643158</td>\n",
       "      <td>8.651842</td>\n",
       "      <td>14029.382368</td>\n",
       "      <td>16867.257879</td>\n",
       "    </tr>\n",
       "    <tr>\n",
       "      <th>std</th>\n",
       "      <td>327.062591</td>\n",
       "      <td>2077.357175</td>\n",
       "      <td>37.489232</td>\n",
       "      <td>54.762439</td>\n",
       "      <td>19054.115749</td>\n",
       "      <td>0.190567</td>\n",
       "      <td>0.019057</td>\n",
       "      <td>0.0</td>\n",
       "      <td>18.375125</td>\n",
       "      <td>17.075428</td>\n",
       "      <td>5645.276495</td>\n",
       "      <td>7434.686007</td>\n",
       "    </tr>\n",
       "    <tr>\n",
       "      <th>min</th>\n",
       "      <td>769.000000</td>\n",
       "      <td>190941.000000</td>\n",
       "      <td>0.000000</td>\n",
       "      <td>0.000000</td>\n",
       "      <td>6150.000000</td>\n",
       "      <td>0.060000</td>\n",
       "      <td>0.006000</td>\n",
       "      <td>0.0</td>\n",
       "      <td>0.000000</td>\n",
       "      <td>0.000000</td>\n",
       "      <td>1264.780000</td>\n",
       "      <td>4613.000000</td>\n",
       "    </tr>\n",
       "    <tr>\n",
       "      <th>25%</th>\n",
       "      <td>872.250000</td>\n",
       "      <td>191479.000000</td>\n",
       "      <td>5.425000</td>\n",
       "      <td>5.700000</td>\n",
       "      <td>27262.500000</td>\n",
       "      <td>0.270000</td>\n",
       "      <td>0.027000</td>\n",
       "      <td>0.0</td>\n",
       "      <td>0.000000</td>\n",
       "      <td>0.000000</td>\n",
       "      <td>10879.730000</td>\n",
       "      <td>14592.000000</td>\n",
       "    </tr>\n",
       "    <tr>\n",
       "      <th>50%</th>\n",
       "      <td>1429.000000</td>\n",
       "      <td>191814.500000</td>\n",
       "      <td>61.315000</td>\n",
       "      <td>70.380000</td>\n",
       "      <td>43125.000000</td>\n",
       "      <td>0.435000</td>\n",
       "      <td>0.043500</td>\n",
       "      <td>0.0</td>\n",
       "      <td>0.000000</td>\n",
       "      <td>0.000000</td>\n",
       "      <td>14778.285000</td>\n",
       "      <td>16034.000000</td>\n",
       "    </tr>\n",
       "    <tr>\n",
       "      <th>75%</th>\n",
       "      <td>1529.250000</td>\n",
       "      <td>192203.250000</td>\n",
       "      <td>79.882500</td>\n",
       "      <td>110.055000</td>\n",
       "      <td>56750.000000</td>\n",
       "      <td>0.567500</td>\n",
       "      <td>0.056750</td>\n",
       "      <td>0.0</td>\n",
       "      <td>2.395000</td>\n",
       "      <td>6.312500</td>\n",
       "      <td>18658.890000</td>\n",
       "      <td>17315.370000</td>\n",
       "    </tr>\n",
       "    <tr>\n",
       "      <th>max</th>\n",
       "      <td>1640.000000</td>\n",
       "      <td>200833.000000</td>\n",
       "      <td>116.700000</td>\n",
       "      <td>187.300000</td>\n",
       "      <td>77000.000000</td>\n",
       "      <td>0.770000</td>\n",
       "      <td>0.077000</td>\n",
       "      <td>0.0</td>\n",
       "      <td>83.000000</td>\n",
       "      <td>55.330000</td>\n",
       "      <td>21660.480000</td>\n",
       "      <td>54373.000000</td>\n",
       "    </tr>\n",
       "  </tbody>\n",
       "</table>\n",
       "</div>"
      ],
      "text/plain": [
       "        Unnamed: 0            VCN  TAT (ATB  -ATUB)\\nHOUR  \\\n",
       "count    38.000000      38.000000               38.000000   \n",
       "mean   1249.815789  192285.236842               52.023158   \n",
       "std     327.062591    2077.357175               37.489232   \n",
       "min     769.000000  190941.000000                0.000000   \n",
       "25%     872.250000  191479.000000                5.425000   \n",
       "50%    1429.000000  191814.500000               61.315000   \n",
       "75%    1529.250000  192203.250000               79.882500   \n",
       "max    1640.000000  200833.000000              116.700000   \n",
       "\n",
       "       TAT\\n(ATA - ATD)\\nHOUR  Total Weight  QTY IN LAKH MT  Qty in MMT  \\\n",
       "count               38.000000     38.000000       38.000000   38.000000   \n",
       "mean                68.454211  41597.684211        0.416316    0.041632   \n",
       "std                 54.762439  19054.115749        0.190567    0.019057   \n",
       "min                  0.000000   6150.000000        0.060000    0.006000   \n",
       "25%                  5.700000  27262.500000        0.270000    0.027000   \n",
       "50%                 70.380000  43125.000000        0.435000    0.043500   \n",
       "75%                110.055000  56750.000000        0.567500    0.056750   \n",
       "max                187.300000  77000.000000        0.770000    0.077000   \n",
       "\n",
       "       TEUs ('000)  Port Delay (Hrs)  Vessel Delay (Hrs)  Productivity  \\\n",
       "count         38.0         38.000000           38.000000     38.000000   \n",
       "mean           0.0          6.643158            8.651842  14029.382368   \n",
       "std            0.0         18.375125           17.075428   5645.276495   \n",
       "min            0.0          0.000000            0.000000   1264.780000   \n",
       "25%            0.0          0.000000            0.000000  10879.730000   \n",
       "50%            0.0          0.000000            0.000000  14778.285000   \n",
       "75%            0.0          2.395000            6.312500  18658.890000   \n",
       "max            0.0         83.000000           55.330000  21660.480000   \n",
       "\n",
       "            DEAD WT  \n",
       "count     33.000000  \n",
       "mean   16867.257879  \n",
       "std     7434.686007  \n",
       "min     4613.000000  \n",
       "25%    14592.000000  \n",
       "50%    16034.000000  \n",
       "75%    17315.370000  \n",
       "max    54373.000000  "
      ]
     },
     "execution_count": 209,
     "metadata": {},
     "output_type": "execute_result"
    }
   ],
   "source": [
    "df.describe()"
   ]
  },
  {
   "cell_type": "code",
   "execution_count": 210,
   "metadata": {},
   "outputs": [
    {
     "data": {
      "text/html": [
       "<div>\n",
       "<style scoped>\n",
       "    .dataframe tbody tr th:only-of-type {\n",
       "        vertical-align: middle;\n",
       "    }\n",
       "\n",
       "    .dataframe tbody tr th {\n",
       "        vertical-align: top;\n",
       "    }\n",
       "\n",
       "    .dataframe thead th {\n",
       "        text-align: right;\n",
       "    }\n",
       "</style>\n",
       "<table border=\"1\" class=\"dataframe\">\n",
       "  <thead>\n",
       "    <tr style=\"text-align: right;\">\n",
       "      <th></th>\n",
       "      <th>Unnamed: 0</th>\n",
       "      <th>VCN</th>\n",
       "      <th>TAT (ATB  -ATUB)\\nHOUR</th>\n",
       "      <th>TAT\\n(ATA - ATD)\\nHOUR</th>\n",
       "      <th>Total Weight</th>\n",
       "      <th>QTY IN LAKH MT</th>\n",
       "      <th>Qty in MMT</th>\n",
       "      <th>TEUs ('000)</th>\n",
       "      <th>Port Delay (Hrs)</th>\n",
       "      <th>Vessel Delay (Hrs)</th>\n",
       "      <th>Productivity</th>\n",
       "      <th>DEAD WT</th>\n",
       "    </tr>\n",
       "  </thead>\n",
       "  <tbody>\n",
       "    <tr>\n",
       "      <th>count</th>\n",
       "      <td>36.000000</td>\n",
       "      <td>36.000000</td>\n",
       "      <td>36.000000</td>\n",
       "      <td>36.000000</td>\n",
       "      <td>36.000000</td>\n",
       "      <td>36.000000</td>\n",
       "      <td>36.000000</td>\n",
       "      <td>36.0</td>\n",
       "      <td>36.000000</td>\n",
       "      <td>36.00000</td>\n",
       "      <td>36.000000</td>\n",
       "      <td>31.000000</td>\n",
       "    </tr>\n",
       "    <tr>\n",
       "      <th>mean</th>\n",
       "      <td>1254.972222</td>\n",
       "      <td>192296.055556</td>\n",
       "      <td>54.913333</td>\n",
       "      <td>72.257222</td>\n",
       "      <td>43537.833333</td>\n",
       "      <td>0.435833</td>\n",
       "      <td>0.043583</td>\n",
       "      <td>0.0</td>\n",
       "      <td>7.012222</td>\n",
       "      <td>9.13250</td>\n",
       "      <td>14738.016111</td>\n",
       "      <td>17008.359677</td>\n",
       "    </tr>\n",
       "    <tr>\n",
       "      <th>std</th>\n",
       "      <td>328.563496</td>\n",
       "      <td>2135.171695</td>\n",
       "      <td>36.366328</td>\n",
       "      <td>53.736817</td>\n",
       "      <td>17613.262595</td>\n",
       "      <td>0.175912</td>\n",
       "      <td>0.017591</td>\n",
       "      <td>0.0</td>\n",
       "      <td>18.822256</td>\n",
       "      <td>17.42746</td>\n",
       "      <td>4886.364704</td>\n",
       "      <td>7654.821410</td>\n",
       "    </tr>\n",
       "    <tr>\n",
       "      <th>min</th>\n",
       "      <td>769.000000</td>\n",
       "      <td>190941.000000</td>\n",
       "      <td>0.000000</td>\n",
       "      <td>0.000000</td>\n",
       "      <td>10000.000000</td>\n",
       "      <td>0.100000</td>\n",
       "      <td>0.010000</td>\n",
       "      <td>0.0</td>\n",
       "      <td>0.000000</td>\n",
       "      <td>0.00000</td>\n",
       "      <td>3660.580000</td>\n",
       "      <td>4613.000000</td>\n",
       "    </tr>\n",
       "    <tr>\n",
       "      <th>25%</th>\n",
       "      <td>851.000000</td>\n",
       "      <td>191466.500000</td>\n",
       "      <td>23.725000</td>\n",
       "      <td>26.722500</td>\n",
       "      <td>33375.000000</td>\n",
       "      <td>0.337500</td>\n",
       "      <td>0.033750</td>\n",
       "      <td>0.0</td>\n",
       "      <td>0.000000</td>\n",
       "      <td>0.00000</td>\n",
       "      <td>11628.425000</td>\n",
       "      <td>14592.000000</td>\n",
       "    </tr>\n",
       "    <tr>\n",
       "      <th>50%</th>\n",
       "      <td>1429.000000</td>\n",
       "      <td>191808.000000</td>\n",
       "      <td>67.050000</td>\n",
       "      <td>71.655000</td>\n",
       "      <td>46050.000000</td>\n",
       "      <td>0.465000</td>\n",
       "      <td>0.046500</td>\n",
       "      <td>0.0</td>\n",
       "      <td>0.000000</td>\n",
       "      <td>0.00000</td>\n",
       "      <td>15007.195000</td>\n",
       "      <td>16235.000000</td>\n",
       "    </tr>\n",
       "    <tr>\n",
       "      <th>75%</th>\n",
       "      <td>1536.250000</td>\n",
       "      <td>192197.750000</td>\n",
       "      <td>81.112500</td>\n",
       "      <td>111.280000</td>\n",
       "      <td>57000.000000</td>\n",
       "      <td>0.570000</td>\n",
       "      <td>0.057000</td>\n",
       "      <td>0.0</td>\n",
       "      <td>3.595000</td>\n",
       "      <td>9.10750</td>\n",
       "      <td>18724.122500</td>\n",
       "      <td>17350.685000</td>\n",
       "    </tr>\n",
       "    <tr>\n",
       "      <th>max</th>\n",
       "      <td>1640.000000</td>\n",
       "      <td>200833.000000</td>\n",
       "      <td>116.700000</td>\n",
       "      <td>187.300000</td>\n",
       "      <td>77000.000000</td>\n",
       "      <td>0.770000</td>\n",
       "      <td>0.077000</td>\n",
       "      <td>0.0</td>\n",
       "      <td>83.000000</td>\n",
       "      <td>55.33000</td>\n",
       "      <td>21660.480000</td>\n",
       "      <td>54373.000000</td>\n",
       "    </tr>\n",
       "  </tbody>\n",
       "</table>\n",
       "</div>"
      ],
      "text/plain": [
       "        Unnamed: 0            VCN  TAT (ATB  -ATUB)\\nHOUR  \\\n",
       "count    36.000000      36.000000               36.000000   \n",
       "mean   1254.972222  192296.055556               54.913333   \n",
       "std     328.563496    2135.171695               36.366328   \n",
       "min     769.000000  190941.000000                0.000000   \n",
       "25%     851.000000  191466.500000               23.725000   \n",
       "50%    1429.000000  191808.000000               67.050000   \n",
       "75%    1536.250000  192197.750000               81.112500   \n",
       "max    1640.000000  200833.000000              116.700000   \n",
       "\n",
       "       TAT\\n(ATA - ATD)\\nHOUR  Total Weight  QTY IN LAKH MT  Qty in MMT  \\\n",
       "count               36.000000     36.000000       36.000000   36.000000   \n",
       "mean                72.257222  43537.833333        0.435833    0.043583   \n",
       "std                 53.736817  17613.262595        0.175912    0.017591   \n",
       "min                  0.000000  10000.000000        0.100000    0.010000   \n",
       "25%                 26.722500  33375.000000        0.337500    0.033750   \n",
       "50%                 71.655000  46050.000000        0.465000    0.046500   \n",
       "75%                111.280000  57000.000000        0.570000    0.057000   \n",
       "max                187.300000  77000.000000        0.770000    0.077000   \n",
       "\n",
       "       TEUs ('000)  Port Delay (Hrs)  Vessel Delay (Hrs)  Productivity  \\\n",
       "count         36.0         36.000000            36.00000     36.000000   \n",
       "mean           0.0          7.012222             9.13250  14738.016111   \n",
       "std            0.0         18.822256            17.42746   4886.364704   \n",
       "min            0.0          0.000000             0.00000   3660.580000   \n",
       "25%            0.0          0.000000             0.00000  11628.425000   \n",
       "50%            0.0          0.000000             0.00000  15007.195000   \n",
       "75%            0.0          3.595000             9.10750  18724.122500   \n",
       "max            0.0         83.000000            55.33000  21660.480000   \n",
       "\n",
       "            DEAD WT  \n",
       "count     31.000000  \n",
       "mean   17008.359677  \n",
       "std     7654.821410  \n",
       "min     4613.000000  \n",
       "25%    14592.000000  \n",
       "50%    16235.000000  \n",
       "75%    17350.685000  \n",
       "max    54373.000000  "
      ]
     },
     "execution_count": 210,
     "metadata": {},
     "output_type": "execute_result"
    }
   ],
   "source": [
    "df=df[df['Productivity']>2500]\n",
    "df.describe()"
   ]
  },
  {
   "cell_type": "code",
   "execution_count": 211,
   "metadata": {},
   "outputs": [],
   "source": [
    "X=df[['Total Weight']]\n",
    "y=df['Productivity']\n",
    "X_train, X_test, y_train, y_test = train_test_split(X, y, test_size=0.1, random_state=1)"
   ]
  },
  {
   "cell_type": "code",
   "execution_count": 212,
   "metadata": {},
   "outputs": [
    {
     "data": {
      "text/plain": [
       "LinearRegression(copy_X=True, fit_intercept=True, n_jobs=None, normalize=False)"
      ]
     },
     "execution_count": 212,
     "metadata": {},
     "output_type": "execute_result"
    }
   ],
   "source": [
    "lm=LinearRegression()\n",
    "lm.fit(X_train,y_train)"
   ]
  },
  {
   "cell_type": "code",
   "execution_count": 213,
   "metadata": {},
   "outputs": [
    {
     "name": "stdout",
     "output_type": "stream",
     "text": [
      "7128.094664135161\n"
     ]
    }
   ],
   "source": [
    "print(lm.intercept_)"
   ]
  },
  {
   "cell_type": "code",
   "execution_count": 214,
   "metadata": {},
   "outputs": [
    {
     "data": {
      "text/html": [
       "<div>\n",
       "<style scoped>\n",
       "    .dataframe tbody tr th:only-of-type {\n",
       "        vertical-align: middle;\n",
       "    }\n",
       "\n",
       "    .dataframe tbody tr th {\n",
       "        vertical-align: top;\n",
       "    }\n",
       "\n",
       "    .dataframe thead th {\n",
       "        text-align: right;\n",
       "    }\n",
       "</style>\n",
       "<table border=\"1\" class=\"dataframe\">\n",
       "  <thead>\n",
       "    <tr style=\"text-align: right;\">\n",
       "      <th></th>\n",
       "      <th>Coefficient</th>\n",
       "    </tr>\n",
       "  </thead>\n",
       "  <tbody>\n",
       "    <tr>\n",
       "      <th>Total Weight</th>\n",
       "      <td>0.17914</td>\n",
       "    </tr>\n",
       "  </tbody>\n",
       "</table>\n",
       "</div>"
      ],
      "text/plain": [
       "              Coefficient\n",
       "Total Weight      0.17914"
      ]
     },
     "execution_count": 214,
     "metadata": {},
     "output_type": "execute_result"
    }
   ],
   "source": [
    "coeff_df = pd.DataFrame(lm.coef_,X.columns,columns=['Coefficient'])\n",
    "coeff_df"
   ]
  },
  {
   "cell_type": "code",
   "execution_count": 215,
   "metadata": {},
   "outputs": [],
   "source": [
    "predictions = lm.predict(X_test)"
   ]
  },
  {
   "cell_type": "code",
   "execution_count": 216,
   "metadata": {
    "scrolled": true
   },
   "outputs": [
    {
     "name": "stdout",
     "output_type": "stream",
     "text": [
      "MAE: 2028.7380048400098\n",
      "MSE: 7326349.833781946\n",
      "RMSE: 2706.7230803652496\n",
      "r2_score: 0.7249745003064398\n"
     ]
    }
   ],
   "source": [
    "print('MAE:', metrics.mean_absolute_error(y_test, predictions))\n",
    "print('MSE:', metrics.mean_squared_error(y_test, predictions))\n",
    "print('RMSE:', np.sqrt(metrics.mean_squared_error(y_test, predictions)))#Main\n",
    "print('r2_score:',r2_score(y_test, predictions))"
   ]
  },
  {
   "cell_type": "code",
   "execution_count": 217,
   "metadata": {
    "scrolled": true
   },
   "outputs": [
    {
     "data": {
      "text/plain": [
       "[<matplotlib.lines.Line2D at 0x12358fda4c8>]"
      ]
     },
     "execution_count": 217,
     "metadata": {},
     "output_type": "execute_result"
    },
    {
     "data": {
      "image/png": "[encoded data removed]",
      "text/plain": [
       "<Figure size 432x288 with 1 Axes>"
      ]
     },
     "metadata": {
      "needs_background": "light"
     },
     "output_type": "display_data"
    }
   ],
   "source": [
    "plt.scatter(X,y, color='red')\n",
    "plt.plot(X_test, predictions,color=\"blue\")"
   ]
  },
  {
   "cell_type": "code",
   "execution_count": 218,
   "metadata": {},
   "outputs": [
    {
     "data": {
      "text/plain": [
       "['Industrial_Salt.pkl']"
      ]
     },
     "execution_count": 218,
     "metadata": {},
     "output_type": "execute_result"
    }
   ],
   "source": [
    "joblib.dump(lm,\"Industrial_Salt.pkl\")"
   ]
  },
  {
   "cell_type": "code",
   "execution_count": null,
   "metadata": {},
   "outputs": [],
   "source": []
  }
 ],
 "metadata": {
  "kernelspec": {
   "display_name": "Python 3",
   "language": "python",
   "name": "python3"
  },
  "language_info": {
   "codemirror_mode": {
    "name": "ipython",
    "version": 3
   },
   "file_extension": ".py",
   "mimetype": "text/x-python",
   "name": "python",
   "nbconvert_exporter": "python",
   "pygments_lexer": "ipython3",
   "version": "3.7.6"
  }
 },
 "nbformat": 4,
 "nbformat_minor": 4
}
