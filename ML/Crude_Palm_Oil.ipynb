{
 "cells": [
  {
   "cell_type": "code",
   "execution_count": 17,
   "metadata": {},
   "outputs": [],
   "source": [
    "import pandas as pd\n",
    "import numpy as np\n",
    "import matplotlib.pyplot as plt\n",
    "import seaborn as sns\n",
    "from sklearn.metrics import explained_variance_score,r2_score, max_error, mean_absolute_error, median_absolute_error, mean_squared_error\n",
    "from math import sqrt\n",
    "from sklearn import linear_model , metrics\n",
    "from sklearn.model_selection import train_test_split\n",
    "from sklearn.linear_model import LinearRegression\n",
    "import joblib\n",
    "%matplotlib inline"
   ]
  },
  {
   "cell_type": "code",
   "execution_count": 18,
   "metadata": {},
   "outputs": [],
   "source": [
    "from plotly import __version__\n",
    "from plotly.offline import download_plotlyjs, init_notebook_mode, plot, iplot\n",
    "import cufflinks as cf"
   ]
  },
  {
   "cell_type": "code",
   "execution_count": 19,
   "metadata": {},
   "outputs": [
    {
     "data": {
      "text/html": [
       "        <script type=\"text/javascript\">\n",
       "        window.PlotlyConfig = {MathJaxConfig: 'local'};\n",
       "        if (window.MathJax) {MathJax.Hub.Config({SVG: {font: \"STIX-Web\"}});}\n",
       "        if (typeof require !== 'undefined') {\n",
       "        require.undef(\"plotly\");\n",
       "        requirejs.config({\n",
       "            paths: {\n",
       "                'plotly': ['https://cdn.plot.ly/plotly-latest.min']\n",
       "            }\n",
       "        });\n",
       "        require(['plotly'], function(Plotly) {\n",
       "            window._Plotly = Plotly;\n",
       "        });\n",
       "        }\n",
       "        </script>\n",
       "        "
      ]
     },
     "metadata": {},
     "output_type": "display_data"
    },
    {
     "data": {
      "text/html": [
       "        <script type=\"text/javascript\">\n",
       "        window.PlotlyConfig = {MathJaxConfig: 'local'};\n",
       "        if (window.MathJax) {MathJax.Hub.Config({SVG: {font: \"STIX-Web\"}});}\n",
       "        if (typeof require !== 'undefined') {\n",
       "        require.undef(\"plotly\");\n",
       "        requirejs.config({\n",
       "            paths: {\n",
       "                'plotly': ['https://cdn.plot.ly/plotly-latest.min']\n",
       "            }\n",
       "        });\n",
       "        require(['plotly'], function(Plotly) {\n",
       "            window._Plotly = Plotly;\n",
       "        });\n",
       "        }\n",
       "        </script>\n",
       "        "
      ]
     },
     "metadata": {},
     "output_type": "display_data"
    }
   ],
   "source": [
    "init_notebook_mode(connected=True)\n",
    "cf.go_offline()"
   ]
  },
  {
   "cell_type": "code",
   "execution_count": 20,
   "metadata": {},
   "outputs": [],
   "source": [
    "df=pd.read_csv('CRUDEPALMOIL.csv')"
   ]
  },
  {
   "cell_type": "code",
   "execution_count": 21,
   "metadata": {},
   "outputs": [
    {
     "data": {
      "text/plain": [
       "<matplotlib.axes._subplots.AxesSubplot at 0x1a1cc14750>"
      ]
     },
     "execution_count": 21,
     "metadata": {},
     "output_type": "execute_result"
    },
    {
     "data": {
      "image/png": "[encoded data removed]",
      "text/plain": [
       "<Figure size 432x288 with 1 Axes>"
      ]
     },
     "metadata": {
      "needs_background": "light"
     },
     "output_type": "display_data"
    }
   ],
   "source": [
    "sns.scatterplot(x='Total Weight',y='Productivity',data=df)"
   ]
  },
  {
   "cell_type": "code",
   "execution_count": 22,
   "metadata": {},
   "outputs": [
    {
     "data": {
      "text/html": [
       "<div>\n",
       "<style scoped>\n",
       "    .dataframe tbody tr th:only-of-type {\n",
       "        vertical-align: middle;\n",
       "    }\n",
       "\n",
       "    .dataframe tbody tr th {\n",
       "        vertical-align: top;\n",
       "    }\n",
       "\n",
       "    .dataframe thead th {\n",
       "        text-align: right;\n",
       "    }\n",
       "</style>\n",
       "<table border=\"1\" class=\"dataframe\">\n",
       "  <thead>\n",
       "    <tr style=\"text-align: right;\">\n",
       "      <th></th>\n",
       "      <th>Unnamed: 0</th>\n",
       "      <th>VCN</th>\n",
       "      <th>TAT (ATB  -ATUB)\\nHOUR</th>\n",
       "      <th>TAT\\n(ATA - ATD)\\nHOUR</th>\n",
       "      <th>Total Weight</th>\n",
       "      <th>QTY IN LAKH MT</th>\n",
       "      <th>Qty in MMT</th>\n",
       "      <th>TEUs ('000)</th>\n",
       "      <th>Port Delay (Hrs)</th>\n",
       "      <th>Vessel Delay (Hrs)</th>\n",
       "      <th>Productivity</th>\n",
       "      <th>DEAD WT</th>\n",
       "    </tr>\n",
       "  </thead>\n",
       "  <tbody>\n",
       "    <tr>\n",
       "      <th>count</th>\n",
       "      <td>26.000000</td>\n",
       "      <td>26.000000</td>\n",
       "      <td>26.000000</td>\n",
       "      <td>26.000000</td>\n",
       "      <td>26.000000</td>\n",
       "      <td>26.000000</td>\n",
       "      <td>26.000000</td>\n",
       "      <td>26.0</td>\n",
       "      <td>26.000000</td>\n",
       "      <td>26.000000</td>\n",
       "      <td>26.000000</td>\n",
       "      <td>22.000000</td>\n",
       "    </tr>\n",
       "    <tr>\n",
       "      <th>mean</th>\n",
       "      <td>171.076923</td>\n",
       "      <td>193658.769231</td>\n",
       "      <td>28.743846</td>\n",
       "      <td>62.576154</td>\n",
       "      <td>9278.816077</td>\n",
       "      <td>0.092692</td>\n",
       "      <td>0.009269</td>\n",
       "      <td>0.0</td>\n",
       "      <td>0.411154</td>\n",
       "      <td>32.694615</td>\n",
       "      <td>4028.000000</td>\n",
       "      <td>31884.486318</td>\n",
       "    </tr>\n",
       "    <tr>\n",
       "      <th>std</th>\n",
       "      <td>107.657577</td>\n",
       "      <td>3331.490085</td>\n",
       "      <td>27.159439</td>\n",
       "      <td>68.556282</td>\n",
       "      <td>5291.023165</td>\n",
       "      <td>0.052957</td>\n",
       "      <td>0.005296</td>\n",
       "      <td>0.0</td>\n",
       "      <td>1.360242</td>\n",
       "      <td>44.359948</td>\n",
       "      <td>2345.179859</td>\n",
       "      <td>10310.775673</td>\n",
       "    </tr>\n",
       "    <tr>\n",
       "      <th>min</th>\n",
       "      <td>8.000000</td>\n",
       "      <td>190896.000000</td>\n",
       "      <td>0.000000</td>\n",
       "      <td>0.000000</td>\n",
       "      <td>0.000000</td>\n",
       "      <td>0.000000</td>\n",
       "      <td>0.000000</td>\n",
       "      <td>0.0</td>\n",
       "      <td>0.000000</td>\n",
       "      <td>0.000000</td>\n",
       "      <td>0.000000</td>\n",
       "      <td>14031.000000</td>\n",
       "    </tr>\n",
       "    <tr>\n",
       "      <th>25%</th>\n",
       "      <td>125.500000</td>\n",
       "      <td>191609.750000</td>\n",
       "      <td>0.000000</td>\n",
       "      <td>0.000000</td>\n",
       "      <td>6096.988000</td>\n",
       "      <td>0.062500</td>\n",
       "      <td>0.006250</td>\n",
       "      <td>0.0</td>\n",
       "      <td>0.000000</td>\n",
       "      <td>0.000000</td>\n",
       "      <td>2274.110000</td>\n",
       "      <td>25671.774250</td>\n",
       "    </tr>\n",
       "    <tr>\n",
       "      <th>50%</th>\n",
       "      <td>175.500000</td>\n",
       "      <td>192531.500000</td>\n",
       "      <td>31.235000</td>\n",
       "      <td>43.125000</td>\n",
       "      <td>7899.997000</td>\n",
       "      <td>0.080000</td>\n",
       "      <td>0.008000</td>\n",
       "      <td>0.0</td>\n",
       "      <td>0.000000</td>\n",
       "      <td>0.000000</td>\n",
       "      <td>4127.735000</td>\n",
       "      <td>32887.000000</td>\n",
       "    </tr>\n",
       "    <tr>\n",
       "      <th>75%</th>\n",
       "      <td>203.500000</td>\n",
       "      <td>193079.000000</td>\n",
       "      <td>55.787500</td>\n",
       "      <td>118.272500</td>\n",
       "      <td>13300.486750</td>\n",
       "      <td>0.130000</td>\n",
       "      <td>0.013000</td>\n",
       "      <td>0.0</td>\n",
       "      <td>0.000000</td>\n",
       "      <td>61.625000</td>\n",
       "      <td>5531.590000</td>\n",
       "      <td>41207.000000</td>\n",
       "    </tr>\n",
       "    <tr>\n",
       "      <th>max</th>\n",
       "      <td>490.000000</td>\n",
       "      <td>200336.000000</td>\n",
       "      <td>72.350000</td>\n",
       "      <td>209.580000</td>\n",
       "      <td>18999.961000</td>\n",
       "      <td>0.190000</td>\n",
       "      <td>0.019000</td>\n",
       "      <td>0.0</td>\n",
       "      <td>5.080000</td>\n",
       "      <td>148.130000</td>\n",
       "      <td>8011.410000</td>\n",
       "      <td>45286.000000</td>\n",
       "    </tr>\n",
       "  </tbody>\n",
       "</table>\n",
       "</div>"
      ],
      "text/plain": [
       "       Unnamed: 0            VCN  TAT (ATB  -ATUB)\\nHOUR  \\\n",
       "count   26.000000      26.000000               26.000000   \n",
       "mean   171.076923  193658.769231               28.743846   \n",
       "std    107.657577    3331.490085               27.159439   \n",
       "min      8.000000  190896.000000                0.000000   \n",
       "25%    125.500000  191609.750000                0.000000   \n",
       "50%    175.500000  192531.500000               31.235000   \n",
       "75%    203.500000  193079.000000               55.787500   \n",
       "max    490.000000  200336.000000               72.350000   \n",
       "\n",
       "       TAT\\n(ATA - ATD)\\nHOUR  Total Weight  QTY IN LAKH MT  Qty in MMT  \\\n",
       "count               26.000000     26.000000       26.000000   26.000000   \n",
       "mean                62.576154   9278.816077        0.092692    0.009269   \n",
       "std                 68.556282   5291.023165        0.052957    0.005296   \n",
       "min                  0.000000      0.000000        0.000000    0.000000   \n",
       "25%                  0.000000   6096.988000        0.062500    0.006250   \n",
       "50%                 43.125000   7899.997000        0.080000    0.008000   \n",
       "75%                118.272500  13300.486750        0.130000    0.013000   \n",
       "max                209.580000  18999.961000        0.190000    0.019000   \n",
       "\n",
       "       TEUs ('000)  Port Delay (Hrs)  Vessel Delay (Hrs)  Productivity  \\\n",
       "count         26.0         26.000000           26.000000     26.000000   \n",
       "mean           0.0          0.411154           32.694615   4028.000000   \n",
       "std            0.0          1.360242           44.359948   2345.179859   \n",
       "min            0.0          0.000000            0.000000      0.000000   \n",
       "25%            0.0          0.000000            0.000000   2274.110000   \n",
       "50%            0.0          0.000000            0.000000   4127.735000   \n",
       "75%            0.0          0.000000           61.625000   5531.590000   \n",
       "max            0.0          5.080000          148.130000   8011.410000   \n",
       "\n",
       "            DEAD WT  \n",
       "count     22.000000  \n",
       "mean   31884.486318  \n",
       "std    10310.775673  \n",
       "min    14031.000000  \n",
       "25%    25671.774250  \n",
       "50%    32887.000000  \n",
       "75%    41207.000000  \n",
       "max    45286.000000  "
      ]
     },
     "execution_count": 22,
     "metadata": {},
     "output_type": "execute_result"
    }
   ],
   "source": [
    "df.describe()"
   ]
  },
  {
   "cell_type": "code",
   "execution_count": 85,
   "metadata": {},
   "outputs": [],
   "source": [
    "X=df[['Total Weight']]\n",
    "y=df['Productivity']\n",
    "X_train, X_test, y_train, y_test = train_test_split(X, y, test_size=0.33, random_state=1)"
   ]
  },
  {
   "cell_type": "code",
   "execution_count": 86,
   "metadata": {},
   "outputs": [
    {
     "data": {
      "text/plain": [
       "LinearRegression()"
      ]
     },
     "execution_count": 86,
     "metadata": {},
     "output_type": "execute_result"
    }
   ],
   "source": [
    "lm=LinearRegression()\n",
    "lm.fit(X_train,y_train)"
   ]
  },
  {
   "cell_type": "code",
   "execution_count": 87,
   "metadata": {},
   "outputs": [
    {
     "name": "stdout",
     "output_type": "stream",
     "text": [
      "1162.881608222538\n"
     ]
    }
   ],
   "source": [
    "print(lm.intercept_)"
   ]
  },
  {
   "cell_type": "code",
   "execution_count": 88,
   "metadata": {},
   "outputs": [
    {
     "data": {
      "text/html": [
       "<div>\n",
       "<style scoped>\n",
       "    .dataframe tbody tr th:only-of-type {\n",
       "        vertical-align: middle;\n",
       "    }\n",
       "\n",
       "    .dataframe tbody tr th {\n",
       "        vertical-align: top;\n",
       "    }\n",
       "\n",
       "    .dataframe thead th {\n",
       "        text-align: right;\n",
       "    }\n",
       "</style>\n",
       "<table border=\"1\" class=\"dataframe\">\n",
       "  <thead>\n",
       "    <tr style=\"text-align: right;\">\n",
       "      <th></th>\n",
       "      <th>Coefficient</th>\n",
       "    </tr>\n",
       "  </thead>\n",
       "  <tbody>\n",
       "    <tr>\n",
       "      <th>Total Weight</th>\n",
       "      <td>0.328356</td>\n",
       "    </tr>\n",
       "  </tbody>\n",
       "</table>\n",
       "</div>"
      ],
      "text/plain": [
       "              Coefficient\n",
       "Total Weight     0.328356"
      ]
     },
     "execution_count": 88,
     "metadata": {},
     "output_type": "execute_result"
    }
   ],
   "source": [
    "coeff_df = pd.DataFrame(lm.coef_,X.columns,columns=['Coefficient'])\n",
    "coeff_df"
   ]
  },
  {
   "cell_type": "code",
   "execution_count": 89,
   "metadata": {},
   "outputs": [],
   "source": [
    "predictions = lm.predict(X_test)"
   ]
  },
  {
   "cell_type": "code",
   "execution_count": 90,
   "metadata": {},
   "outputs": [
    {
     "data": {
      "text/plain": [
       "[<matplotlib.lines.Line2D at 0x1a2c168d10>]"
      ]
     },
     "execution_count": 90,
     "metadata": {},
     "output_type": "execute_result"
    },
    {
     "data": {
      "image/png": "[encoded data removed]",
      "text/plain": [
       "<Figure size 432x288 with 1 Axes>"
      ]
     },
     "metadata": {
      "needs_background": "light"
     },
     "output_type": "display_data"
    }
   ],
   "source": [
    "plt.scatter(X,y,color='red')\n",
    "plt.plot(X_test,predictions,color='blue')"
   ]
  },
  {
   "cell_type": "code",
   "execution_count": 91,
   "metadata": {},
   "outputs": [
    {
     "name": "stdout",
     "output_type": "stream",
     "text": [
      "MAE: 967.608533750997\n",
      "MSE: 1212404.7286231024\n",
      "RMSE: 1101.092515923663\n",
      "r2_score: 0.72190196042185\n"
     ]
    }
   ],
   "source": [
    "print('MAE:', metrics.mean_absolute_error(y_test, predictions))\n",
    "print('MSE:', metrics.mean_squared_error(y_test, predictions))\n",
    "print('RMSE:', np.sqrt(metrics.mean_squared_error(y_test, predictions)))#Main\n",
    "print('r2_score:',r2_score(y_test, predictions))"
   ]
  },
  {
   "cell_type": "code",
   "execution_count": 75,
   "metadata": {},
   "outputs": [
    {
     "data": {
      "text/plain": [
       "['Crude_Palm_Oil.pkl']"
      ]
     },
     "execution_count": 75,
     "metadata": {},
     "output_type": "execute_result"
    }
   ],
   "source": [
    "joblib.dump(lm,\"Crude_Palm_Oil.pkl\")"
   ]
  },
  {
   "cell_type": "code",
   "execution_count": null,
   "metadata": {},
   "outputs": [],
   "source": []
  }
 ],
 "metadata": {
  "kernelspec": {
   "display_name": "Python 3",
   "language": "python",
   "name": "python3"
  },
  "language_info": {
   "codemirror_mode": {
    "name": "ipython",
    "version": 3
   },
   "file_extension": ".py",
   "mimetype": "text/x-python",
   "name": "python",
   "nbconvert_exporter": "python",
   "pygments_lexer": "ipython3",
   "version": "3.7.6"
  }
 },
 "nbformat": 4,
 "nbformat_minor": 4
}
