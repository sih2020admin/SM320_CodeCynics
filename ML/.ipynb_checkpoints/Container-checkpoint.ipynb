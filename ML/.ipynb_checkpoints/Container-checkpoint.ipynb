{
 "cells": [
  {
   "cell_type": "code",
   "execution_count": 1,
   "metadata": {},
   "outputs": [],
   "source": [
    "import pandas as pd\n",
    "import numpy as np\n",
    "import matplotlib.pyplot as plt\n",
    "import seaborn as sns\n",
    "from sklearn.metrics import explained_variance_score,r2_score, max_error, mean_absolute_error, median_absolute_error, mean_squared_error\n",
    "from math import sqrt\n",
    "from sklearn import linear_model , metrics\n",
    "from sklearn.model_selection import train_test_split\n",
    "from sklearn.linear_model import LinearRegression\n",
    "import joblib\n",
    "%matplotlib inline"
   ]
  },
  {
   "cell_type": "code",
   "execution_count": 2,
   "metadata": {},
   "outputs": [],
   "source": [
    "from plotly import __version__\n",
    "from plotly.offline import download_plotlyjs, init_notebook_mode, plot, iplot\n",
    "import cufflinks as cf"
   ]
  },
  {
   "cell_type": "code",
   "execution_count": 3,
   "metadata": {},
   "outputs": [
    {
     "data": {
      "text/html": [
       "        <script type=\"text/javascript\">\n",
       "        window.PlotlyConfig = {MathJaxConfig: 'local'};\n",
       "        if (window.MathJax) {MathJax.Hub.Config({SVG: {font: \"STIX-Web\"}});}\n",
       "        if (typeof require !== 'undefined') {\n",
       "        require.undef(\"plotly\");\n",
       "        requirejs.config({\n",
       "            paths: {\n",
       "                'plotly': ['https://cdn.plot.ly/plotly-latest.min']\n",
       "            }\n",
       "        });\n",
       "        require(['plotly'], function(Plotly) {\n",
       "            window._Plotly = Plotly;\n",
       "        });\n",
       "        }\n",
       "        </script>\n",
       "        "
      ]
     },
     "metadata": {},
     "output_type": "display_data"
    },
    {
     "data": {
      "text/html": [
       "        <script type=\"text/javascript\">\n",
       "        window.PlotlyConfig = {MathJaxConfig: 'local'};\n",
       "        if (window.MathJax) {MathJax.Hub.Config({SVG: {font: \"STIX-Web\"}});}\n",
       "        if (typeof require !== 'undefined') {\n",
       "        require.undef(\"plotly\");\n",
       "        requirejs.config({\n",
       "            paths: {\n",
       "                'plotly': ['https://cdn.plot.ly/plotly-latest.min']\n",
       "            }\n",
       "        });\n",
       "        require(['plotly'], function(Plotly) {\n",
       "            window._Plotly = Plotly;\n",
       "        });\n",
       "        }\n",
       "        </script>\n",
       "        "
      ]
     },
     "metadata": {},
     "output_type": "display_data"
    }
   ],
   "source": [
    "init_notebook_mode(connected=True)\n",
    "cf.go_offline()\n"
   ]
  },
  {
   "cell_type": "code",
   "execution_count": 4,
   "metadata": {},
   "outputs": [
    {
     "name": "stdout",
     "output_type": "stream",
     "text": [
      "<class 'pandas.core.frame.DataFrame'>\n",
      "RangeIndex: 6839 entries, 0 to 6838\n",
      "Data columns (total 34 columns):\n",
      " #   Column                 Non-Null Count  Dtype  \n",
      "---  ------                 --------------  -----  \n",
      " 0   Unnamed: 0             6839 non-null   int64  \n",
      " 1   ATB DATE               6839 non-null   object \n",
      " 2   ATUB DATE              6839 non-null   object \n",
      " 3   ATA DATE               6839 non-null   object \n",
      " 4   ATD DATE               6839 non-null   object \n",
      " 5   Month                  6839 non-null   object \n",
      " 6   HY                     6839 non-null   object \n",
      " 7   Financial\n",
      "Year         6839 non-null   object \n",
      " 8   Port Name              6839 non-null   object \n",
      " 9   BU_CD                  6839 non-null   object \n",
      " 10  Terminal               5722 non-null   object \n",
      " 11  VCN                    6839 non-null   int64  \n",
      " 12  Berth No               6839 non-null   object \n",
      " 13  CARGO GROUP            6839 non-null   object \n",
      " 14  Commodity Type         6839 non-null   object \n",
      " 15  Commodity              6839 non-null   object \n",
      " 16  TAT (ATB  -ATUB)\n",
      "HOUR  6839 non-null   float64\n",
      " 17  TAT\n",
      "(ATA - ATD)\n",
      "HOUR   6839 non-null   float64\n",
      " 18  Base Status            6839 non-null   object \n",
      " 19  Total Weight           6839 non-null   float64\n",
      " 20  QTY IN LAKH MT         6839 non-null   float64\n",
      " 21  Qty in MMT             6839 non-null   float64\n",
      " 22  TEUs ('000)            6839 non-null   float64\n",
      " 23  Port Delay (Hrs)       6839 non-null   float64\n",
      " 24  Vessel Delay (Hrs)     6839 non-null   float64\n",
      " 25  Productivity           6839 non-null   float64\n",
      " 26  Coast                  6839 non-null   object \n",
      " 27  DEAD WT                113 non-null    float64\n",
      " 28  VSL GROUP              6839 non-null   object \n",
      " 29  LOAD\n",
      "PORT              129 non-null    object \n",
      " 30  DISCHARGE PORT         67 non-null     object \n",
      " 31  LAST PORT OF CALL      6793 non-null   object \n",
      " 32  NEXT PORT OF CALL      6833 non-null   object \n",
      " 33  Vessel Name            6839 non-null   object \n",
      "dtypes: float64(10), int64(2), object(22)\n",
      "memory usage: 1.8+ MB\n"
     ]
    }
   ],
   "source": [
    "df=pd.read_csv('CONTAINER.csv')\n",
    "df.info()"
   ]
  },
  {
   "cell_type": "code",
   "execution_count": 5,
   "metadata": {},
   "outputs": [
    {
     "data": {
      "text/plain": [
       "<matplotlib.axes._subplots.AxesSubplot at 0x1c8cf944888>"
      ]
     },
     "execution_count": 5,
     "metadata": {},
     "output_type": "execute_result"
    },
    {
     "data": {
      "image/png": "[encoded data removed]",
      "text/plain": [
       "<Figure size 432x288 with 1 Axes>"
      ]
     },
     "metadata": {
      "needs_background": "light"
     },
     "output_type": "display_data"
    }
   ],
   "source": [
    "sns.scatterplot(x='Total Weight',y='Productivity',data=df)"
   ]
  },
  {
   "cell_type": "code",
   "execution_count": 6,
   "metadata": {},
   "outputs": [
    {
     "data": {
      "text/html": [
       "<div>\n",
       "<style scoped>\n",
       "    .dataframe tbody tr th:only-of-type {\n",
       "        vertical-align: middle;\n",
       "    }\n",
       "\n",
       "    .dataframe tbody tr th {\n",
       "        vertical-align: top;\n",
       "    }\n",
       "\n",
       "    .dataframe thead th {\n",
       "        text-align: right;\n",
       "    }\n",
       "</style>\n",
       "<table border=\"1\" class=\"dataframe\">\n",
       "  <thead>\n",
       "    <tr style=\"text-align: right;\">\n",
       "      <th></th>\n",
       "      <th>Unnamed: 0</th>\n",
       "      <th>VCN</th>\n",
       "      <th>TAT (ATB  -ATUB)\\nHOUR</th>\n",
       "      <th>TAT\\n(ATA - ATD)\\nHOUR</th>\n",
       "      <th>Total Weight</th>\n",
       "      <th>QTY IN LAKH MT</th>\n",
       "      <th>Qty in MMT</th>\n",
       "      <th>TEUs ('000)</th>\n",
       "      <th>Port Delay (Hrs)</th>\n",
       "      <th>Vessel Delay (Hrs)</th>\n",
       "      <th>Productivity</th>\n",
       "      <th>DEAD WT</th>\n",
       "    </tr>\n",
       "  </thead>\n",
       "  <tbody>\n",
       "    <tr>\n",
       "      <th>count</th>\n",
       "      <td>6839.000000</td>\n",
       "      <td>6839.000000</td>\n",
       "      <td>6839.000000</td>\n",
       "      <td>6839.000000</td>\n",
       "      <td>6839.000000</td>\n",
       "      <td>6839.000000</td>\n",
       "      <td>6839.000000</td>\n",
       "      <td>6839.000000</td>\n",
       "      <td>6839.000000</td>\n",
       "      <td>6839.000000</td>\n",
       "      <td>6839.000000</td>\n",
       "      <td>113.000000</td>\n",
       "    </tr>\n",
       "    <tr>\n",
       "      <th>mean</th>\n",
       "      <td>5020.313935</td>\n",
       "      <td>194115.253838</td>\n",
       "      <td>4.726134</td>\n",
       "      <td>5.837336</td>\n",
       "      <td>10273.342623</td>\n",
       "      <td>0.102531</td>\n",
       "      <td>0.010253</td>\n",
       "      <td>0.703654</td>\n",
       "      <td>0.003989</td>\n",
       "      <td>0.604139</td>\n",
       "      <td>12550.278210</td>\n",
       "      <td>21398.061062</td>\n",
       "    </tr>\n",
       "    <tr>\n",
       "      <th>std</th>\n",
       "      <td>2129.167610</td>\n",
       "      <td>3714.007468</td>\n",
       "      <td>10.480068</td>\n",
       "      <td>16.184168</td>\n",
       "      <td>12522.154125</td>\n",
       "      <td>0.125416</td>\n",
       "      <td>0.012542</td>\n",
       "      <td>0.857682</td>\n",
       "      <td>0.176082</td>\n",
       "      <td>4.413266</td>\n",
       "      <td>12136.679023</td>\n",
       "      <td>17763.393189</td>\n",
       "    </tr>\n",
       "    <tr>\n",
       "      <th>min</th>\n",
       "      <td>525.000000</td>\n",
       "      <td>190154.000000</td>\n",
       "      <td>0.000000</td>\n",
       "      <td>0.000000</td>\n",
       "      <td>14.600000</td>\n",
       "      <td>0.000000</td>\n",
       "      <td>0.000000</td>\n",
       "      <td>0.001000</td>\n",
       "      <td>0.000000</td>\n",
       "      <td>0.000000</td>\n",
       "      <td>9.670000</td>\n",
       "      <td>1.000000</td>\n",
       "    </tr>\n",
       "    <tr>\n",
       "      <th>25%</th>\n",
       "      <td>3234.500000</td>\n",
       "      <td>191586.500000</td>\n",
       "      <td>0.000000</td>\n",
       "      <td>0.000000</td>\n",
       "      <td>1606.000000</td>\n",
       "      <td>0.020000</td>\n",
       "      <td>0.002000</td>\n",
       "      <td>0.110000</td>\n",
       "      <td>0.000000</td>\n",
       "      <td>0.000000</td>\n",
       "      <td>2464.685000</td>\n",
       "      <td>10860.000000</td>\n",
       "    </tr>\n",
       "    <tr>\n",
       "      <th>50%</th>\n",
       "      <td>5026.000000</td>\n",
       "      <td>192382.000000</td>\n",
       "      <td>0.000000</td>\n",
       "      <td>0.000000</td>\n",
       "      <td>6117.400000</td>\n",
       "      <td>0.060000</td>\n",
       "      <td>0.006000</td>\n",
       "      <td>0.419000</td>\n",
       "      <td>0.000000</td>\n",
       "      <td>0.000000</td>\n",
       "      <td>9415.570000</td>\n",
       "      <td>12311.000000</td>\n",
       "    </tr>\n",
       "    <tr>\n",
       "      <th>75%</th>\n",
       "      <td>6853.500000</td>\n",
       "      <td>200010.000000</td>\n",
       "      <td>6.385000</td>\n",
       "      <td>7.940000</td>\n",
       "      <td>13680.200000</td>\n",
       "      <td>0.140000</td>\n",
       "      <td>0.014000</td>\n",
       "      <td>0.937000</td>\n",
       "      <td>0.000000</td>\n",
       "      <td>0.000000</td>\n",
       "      <td>19259.045000</td>\n",
       "      <td>30252.000000</td>\n",
       "    </tr>\n",
       "    <tr>\n",
       "      <th>max</th>\n",
       "      <td>8608.000000</td>\n",
       "      <td>200879.000000</td>\n",
       "      <td>449.200000</td>\n",
       "      <td>941.950000</td>\n",
       "      <td>100316.600000</td>\n",
       "      <td>1.000000</td>\n",
       "      <td>0.100000</td>\n",
       "      <td>6.871000</td>\n",
       "      <td>10.380000</td>\n",
       "      <td>128.030000</td>\n",
       "      <td>95124.620000</td>\n",
       "      <td>68228.000000</td>\n",
       "    </tr>\n",
       "  </tbody>\n",
       "</table>\n",
       "</div>"
      ],
      "text/plain": [
       "        Unnamed: 0            VCN  TAT (ATB  -ATUB)\\nHOUR  \\\n",
       "count  6839.000000    6839.000000             6839.000000   \n",
       "mean   5020.313935  194115.253838                4.726134   \n",
       "std    2129.167610    3714.007468               10.480068   \n",
       "min     525.000000  190154.000000                0.000000   \n",
       "25%    3234.500000  191586.500000                0.000000   \n",
       "50%    5026.000000  192382.000000                0.000000   \n",
       "75%    6853.500000  200010.000000                6.385000   \n",
       "max    8608.000000  200879.000000              449.200000   \n",
       "\n",
       "       TAT\\n(ATA - ATD)\\nHOUR   Total Weight  QTY IN LAKH MT   Qty in MMT  \\\n",
       "count             6839.000000    6839.000000     6839.000000  6839.000000   \n",
       "mean                 5.837336   10273.342623        0.102531     0.010253   \n",
       "std                 16.184168   12522.154125        0.125416     0.012542   \n",
       "min                  0.000000      14.600000        0.000000     0.000000   \n",
       "25%                  0.000000    1606.000000        0.020000     0.002000   \n",
       "50%                  0.000000    6117.400000        0.060000     0.006000   \n",
       "75%                  7.940000   13680.200000        0.140000     0.014000   \n",
       "max                941.950000  100316.600000        1.000000     0.100000   \n",
       "\n",
       "       TEUs ('000)  Port Delay (Hrs)  Vessel Delay (Hrs)  Productivity  \\\n",
       "count  6839.000000       6839.000000         6839.000000   6839.000000   \n",
       "mean      0.703654          0.003989            0.604139  12550.278210   \n",
       "std       0.857682          0.176082            4.413266  12136.679023   \n",
       "min       0.001000          0.000000            0.000000      9.670000   \n",
       "25%       0.110000          0.000000            0.000000   2464.685000   \n",
       "50%       0.419000          0.000000            0.000000   9415.570000   \n",
       "75%       0.937000          0.000000            0.000000  19259.045000   \n",
       "max       6.871000         10.380000          128.030000  95124.620000   \n",
       "\n",
       "            DEAD WT  \n",
       "count    113.000000  \n",
       "mean   21398.061062  \n",
       "std    17763.393189  \n",
       "min        1.000000  \n",
       "25%    10860.000000  \n",
       "50%    12311.000000  \n",
       "75%    30252.000000  \n",
       "max    68228.000000  "
      ]
     },
     "execution_count": 6,
     "metadata": {},
     "output_type": "execute_result"
    }
   ],
   "source": [
    "df.describe()"
   ]
  },
  {
   "cell_type": "code",
   "execution_count": 7,
   "metadata": {},
   "outputs": [],
   "source": [
    "X=df[['Total Weight']]\n",
    "y=df['Productivity']\n",
    "X_train, X_test, y_train, y_test = train_test_split(X, y, test_size=0.33, random_state=1)"
   ]
  },
  {
   "cell_type": "code",
   "execution_count": 8,
   "metadata": {},
   "outputs": [
    {
     "data": {
      "text/plain": [
       "LinearRegression(copy_X=True, fit_intercept=True, n_jobs=None, normalize=False)"
      ]
     },
     "execution_count": 8,
     "metadata": {},
     "output_type": "execute_result"
    }
   ],
   "source": [
    "lm=LinearRegression()\n",
    "lm.fit(X_train,y_train)"
   ]
  },
  {
   "cell_type": "code",
   "execution_count": 9,
   "metadata": {},
   "outputs": [
    {
     "name": "stdout",
     "output_type": "stream",
     "text": [
      "3760.437407168505\n"
     ]
    }
   ],
   "source": [
    "print(lm.intercept_)"
   ]
  },
  {
   "cell_type": "code",
   "execution_count": 10,
   "metadata": {},
   "outputs": [
    {
     "data": {
      "text/html": [
       "<div>\n",
       "<style scoped>\n",
       "    .dataframe tbody tr th:only-of-type {\n",
       "        vertical-align: middle;\n",
       "    }\n",
       "\n",
       "    .dataframe tbody tr th {\n",
       "        vertical-align: top;\n",
       "    }\n",
       "\n",
       "    .dataframe thead th {\n",
       "        text-align: right;\n",
       "    }\n",
       "</style>\n",
       "<table border=\"1\" class=\"dataframe\">\n",
       "  <thead>\n",
       "    <tr style=\"text-align: right;\">\n",
       "      <th></th>\n",
       "      <th>Coefficient</th>\n",
       "    </tr>\n",
       "  </thead>\n",
       "  <tbody>\n",
       "    <tr>\n",
       "      <th>Total Weight</th>\n",
       "      <td>0.862171</td>\n",
       "    </tr>\n",
       "  </tbody>\n",
       "</table>\n",
       "</div>"
      ],
      "text/plain": [
       "              Coefficient\n",
       "Total Weight     0.862171"
      ]
     },
     "execution_count": 10,
     "metadata": {},
     "output_type": "execute_result"
    }
   ],
   "source": [
    "coeff_df = pd.DataFrame(lm.coef_,X.columns,columns=['Coefficient'])\n",
    "coeff_df"
   ]
  },
  {
   "cell_type": "code",
   "execution_count": 11,
   "metadata": {},
   "outputs": [],
   "source": [
    "predictions = lm.predict(X_test)"
   ]
  },
  {
   "cell_type": "code",
   "execution_count": 12,
   "metadata": {},
   "outputs": [
    {
     "data": {
      "text/plain": [
       "[<matplotlib.lines.Line2D at 0x1c8d0115708>]"
      ]
     },
     "execution_count": 12,
     "metadata": {},
     "output_type": "execute_result"
    },
    {
     "data": {
      "image/png": "[encoded data removed]",
      "text/plain": [
       "<Figure size 432x288 with 1 Axes>"
      ]
     },
     "metadata": {
      "needs_background": "light"
     },
     "output_type": "display_data"
    }
   ],
   "source": [
    "plt.scatter(X,y,color='red')\n",
    "plt.plot(X_test,predictions,color='blue')"
   ]
  },
  {
   "cell_type": "code",
   "execution_count": 13,
   "metadata": {},
   "outputs": [
    {
     "name": "stdout",
     "output_type": "stream",
     "text": [
      "MAE: 3820.042833523377\n",
      "MSE: 26216899.17944884\n",
      "RMSE: 5120.244054676382\n"
     ]
    }
   ],
   "source": [
    "print('MAE:', metrics.mean_absolute_error(y_test, predictions))\n",
    "print('MSE:', metrics.mean_squared_error(y_test, predictions))\n",
    "print('RMSE:', np.sqrt(metrics.mean_squared_error(y_test, predictions)))#Main"
   ]
  },
  {
   "cell_type": "code",
   "execution_count": 14,
   "metadata": {},
   "outputs": [
    {
     "data": {
      "text/plain": [
       "['Container.pkl']"
      ]
     },
     "execution_count": 14,
     "metadata": {},
     "output_type": "execute_result"
    }
   ],
   "source": [
    "joblib.dump(lm,\"Container.pkl\")#only execute if rmse is less than half of mean of productivity"
   ]
  },
  {
   "cell_type": "code",
   "execution_count": 15,
   "metadata": {},
   "outputs": [
    {
     "name": "stdout",
     "output_type": "stream",
     "text": [
      "0.813978329984547\n"
     ]
    }
   ],
   "source": [
    "# print(explained_variance_score(y_test, predictions))\n",
    "# print(max_error(y_test, predictions))\n",
    "# print(mean_absolute_error(y_test, predictions))\n",
    "# print(sqrt(mean_squared_error(y_test, predictions)))\n",
    "print(r2_score(y_test, predictions))"
   ]
  },
  {
   "cell_type": "code",
   "execution_count": 16,
   "metadata": {},
   "outputs": [],
   "source": [
    "# def gradient_descent(x,y):\n",
    "#     m_curr = b_curr = 0\n",
    "#     iterations = 50\n",
    "#     n = len(x)\n",
    "#     learning_rate = 0.00000001\n",
    "\n",
    "#     for i in range(iterations):\n",
    "#         y_predicted = m_curr * x + b_curr\n",
    "#         cost = (1/n) * sum([val**2 for val in (y-y_predicted)])\n",
    "#         md = -(2/n)*sum(x*(y-y_predicted))\n",
    "#         bd = -(2/n)*sum(y-y_predicted)\n",
    "#         m_curr = m_curr - learning_rate * md\n",
    "#         b_curr = b_curr - learning_rate * bd\n",
    "#         print (\"m {}, b {}, cost {} iteration {}\".format(m_curr,b_curr,cost, i))\n",
    "\n",
    "# x = np.array([12512.2,12030.4,219.0,3591.6,3956.6])#productivities\n",
    "# y = np.array([8555.35,16312.41,296.95,3668.02,4040.78])#weights\n",
    "\n",
    "# gradient_descent(x,y)"
   ]
  }
 ],
 "metadata": {
  "kernelspec": {
   "display_name": "Python 3",
   "language": "python",
   "name": "python3"
  },
  "language_info": {
   "codemirror_mode": {
    "name": "ipython",
    "version": 3
   },
   "file_extension": ".py",
   "mimetype": "text/x-python",
   "name": "python",
   "nbconvert_exporter": "python",
   "pygments_lexer": "ipython3",
   "version": "3.7.6"
  }
 },
 "nbformat": 4,
 "nbformat_minor": 4
}
