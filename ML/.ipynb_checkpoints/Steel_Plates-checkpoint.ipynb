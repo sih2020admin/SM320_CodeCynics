{
 "cells": [
  {
   "cell_type": "code",
   "execution_count": null,
   "metadata": {
    "colab": {},
    "colab_type": "code",
    "id": "7V8bfK7yXml6"
   },
   "outputs": [],
   "source": []
  },
  {
   "cell_type": "code",
   "execution_count": 44,
   "metadata": {
    "colab": {},
    "colab_type": "code",
    "id": "6BrtZjN9CvJW"
   },
   "outputs": [],
   "source": [
    "import pandas as pd\n",
    "import numpy as np\n",
    "import matplotlib.pyplot as plt\n",
    "import seaborn as sns\n",
    "from sklearn import linear_model , metrics\n",
    "from sklearn.model_selection import train_test_split\n",
    "from sklearn.linear_model import LinearRegression\n",
    "from sklearn.metrics import explained_variance_score,r2_score,max_error,mean_absolute_error,median_absolute_error,mean_squared_error\n",
    "from math import sqrt\n",
    "import joblib\n",
    "%matplotlib inline"
   ]
  },
  {
   "cell_type": "code",
   "execution_count": 45,
   "metadata": {
    "colab": {},
    "colab_type": "code",
    "id": "ZOGYPMMwCvJ0"
   },
   "outputs": [],
   "source": [
    "from plotly import __version__\n",
    "from plotly.offline import download_plotlyjs, init_notebook_mode, plot, iplot\n",
    "import cufflinks as cf"
   ]
  },
  {
   "cell_type": "code",
   "execution_count": 46,
   "metadata": {
    "colab": {
     "base_uri": "https://localhost:8080/",
     "height": 17
    },
    "colab_type": "code",
    "id": "qkZhkiDlCvKF",
    "outputId": "931f74d8-83a6-4d9a-95e3-ffac860e5c80"
   },
   "outputs": [
    {
     "data": {
      "text/html": [
       "        <script type=\"text/javascript\">\n",
       "        window.PlotlyConfig = {MathJaxConfig: 'local'};\n",
       "        if (window.MathJax) {MathJax.Hub.Config({SVG: {font: \"STIX-Web\"}});}\n",
       "        if (typeof require !== 'undefined') {\n",
       "        require.undef(\"plotly\");\n",
       "        requirejs.config({\n",
       "            paths: {\n",
       "                'plotly': ['https://cdn.plot.ly/plotly-latest.min']\n",
       "            }\n",
       "        });\n",
       "        require(['plotly'], function(Plotly) {\n",
       "            window._Plotly = Plotly;\n",
       "        });\n",
       "        }\n",
       "        </script>\n",
       "        "
      ]
     },
     "metadata": {},
     "output_type": "display_data"
    },
    {
     "data": {
      "text/html": [
       "        <script type=\"text/javascript\">\n",
       "        window.PlotlyConfig = {MathJaxConfig: 'local'};\n",
       "        if (window.MathJax) {MathJax.Hub.Config({SVG: {font: \"STIX-Web\"}});}\n",
       "        if (typeof require !== 'undefined') {\n",
       "        require.undef(\"plotly\");\n",
       "        requirejs.config({\n",
       "            paths: {\n",
       "                'plotly': ['https://cdn.plot.ly/plotly-latest.min']\n",
       "            }\n",
       "        });\n",
       "        require(['plotly'], function(Plotly) {\n",
       "            window._Plotly = Plotly;\n",
       "        });\n",
       "        }\n",
       "        </script>\n",
       "        "
      ]
     },
     "metadata": {},
     "output_type": "display_data"
    }
   ],
   "source": [
    "init_notebook_mode(connected=True)\n",
    "cf.go_offline()"
   ]
  },
  {
   "cell_type": "code",
   "execution_count": 47,
   "metadata": {
    "colab": {},
    "colab_type": "code",
    "id": "DErTPH7MCvKe"
   },
   "outputs": [],
   "source": [
    "df=pd.read_csv('STEELPLATES.csv')"
   ]
  },
  {
   "cell_type": "code",
   "execution_count": 48,
   "metadata": {
    "colab": {
     "base_uri": "https://localhost:8080/",
     "height": 300
    },
    "colab_type": "code",
    "id": "TqGf5AKbCvK9",
    "outputId": "1772c05d-ab5e-4d2b-bb34-65475f36aec3"
   },
   "outputs": [
    {
     "data": {
      "text/plain": [
       "<matplotlib.axes._subplots.AxesSubplot at 0x28e84f77448>"
      ]
     },
     "execution_count": 48,
     "metadata": {},
     "output_type": "execute_result"
    },
    {
     "data": {
      "image/png": "[encoded data removed]",
      "text/plain": [
       "<Figure size 432x288 with 1 Axes>"
      ]
     },
     "metadata": {
      "needs_background": "light"
     },
     "output_type": "display_data"
    }
   ],
   "source": [
    "sns.scatterplot(x='Total Weight',y='Productivity',data=df)"
   ]
  },
  {
   "cell_type": "code",
   "execution_count": 49,
   "metadata": {
    "colab": {
     "base_uri": "https://localhost:8080/",
     "height": 351
    },
    "colab_type": "code",
    "id": "SIZfNHJTCvLP",
    "outputId": "c599d8d3-4f0a-449a-f6ca-742f94d99db0"
   },
   "outputs": [
    {
     "data": {
      "text/html": [
       "<div>\n",
       "<style scoped>\n",
       "    .dataframe tbody tr th:only-of-type {\n",
       "        vertical-align: middle;\n",
       "    }\n",
       "\n",
       "    .dataframe tbody tr th {\n",
       "        vertical-align: top;\n",
       "    }\n",
       "\n",
       "    .dataframe thead th {\n",
       "        text-align: right;\n",
       "    }\n",
       "</style>\n",
       "<table border=\"1\" class=\"dataframe\">\n",
       "  <thead>\n",
       "    <tr style=\"text-align: right;\">\n",
       "      <th></th>\n",
       "      <th>Unnamed: 0</th>\n",
       "      <th>VCN</th>\n",
       "      <th>TAT (ATB  -ATUB)\\nHOUR</th>\n",
       "      <th>TAT\\n(ATA - ATD)\\nHOUR</th>\n",
       "      <th>Total Weight</th>\n",
       "      <th>QTY IN LAKH MT</th>\n",
       "      <th>Qty in MMT</th>\n",
       "      <th>TEUs ('000)</th>\n",
       "      <th>Port Delay (Hrs)</th>\n",
       "      <th>Vessel Delay (Hrs)</th>\n",
       "      <th>Productivity</th>\n",
       "      <th>DEAD WT</th>\n",
       "    </tr>\n",
       "  </thead>\n",
       "  <tbody>\n",
       "    <tr>\n",
       "      <th>count</th>\n",
       "      <td>50.000000</td>\n",
       "      <td>50.000000</td>\n",
       "      <td>50.00000</td>\n",
       "      <td>50.000000</td>\n",
       "      <td>50.000000</td>\n",
       "      <td>50.000000</td>\n",
       "      <td>50.000000</td>\n",
       "      <td>50.0</td>\n",
       "      <td>50.000000</td>\n",
       "      <td>50.00000</td>\n",
       "      <td>50.000000</td>\n",
       "      <td>46.000000</td>\n",
       "    </tr>\n",
       "    <tr>\n",
       "      <th>mean</th>\n",
       "      <td>1294.160000</td>\n",
       "      <td>192840.580000</td>\n",
       "      <td>6.66580</td>\n",
       "      <td>8.747400</td>\n",
       "      <td>3666.715240</td>\n",
       "      <td>0.036200</td>\n",
       "      <td>0.003620</td>\n",
       "      <td>0.0</td>\n",
       "      <td>1.257000</td>\n",
       "      <td>0.07900</td>\n",
       "      <td>1315.323600</td>\n",
       "      <td>31310.662391</td>\n",
       "    </tr>\n",
       "    <tr>\n",
       "      <th>std</th>\n",
       "      <td>1058.852042</td>\n",
       "      <td>2097.746109</td>\n",
       "      <td>18.67928</td>\n",
       "      <td>26.194979</td>\n",
       "      <td>4533.761685</td>\n",
       "      <td>0.046065</td>\n",
       "      <td>0.004607</td>\n",
       "      <td>0.0</td>\n",
       "      <td>8.374815</td>\n",
       "      <td>0.39899</td>\n",
       "      <td>1291.664949</td>\n",
       "      <td>12890.849648</td>\n",
       "    </tr>\n",
       "    <tr>\n",
       "      <th>min</th>\n",
       "      <td>751.000000</td>\n",
       "      <td>191029.000000</td>\n",
       "      <td>0.00000</td>\n",
       "      <td>0.000000</td>\n",
       "      <td>2.089000</td>\n",
       "      <td>0.000000</td>\n",
       "      <td>0.000000</td>\n",
       "      <td>0.0</td>\n",
       "      <td>0.000000</td>\n",
       "      <td>0.00000</td>\n",
       "      <td>0.890000</td>\n",
       "      <td>4383.700000</td>\n",
       "    </tr>\n",
       "    <tr>\n",
       "      <th>25%</th>\n",
       "      <td>942.250000</td>\n",
       "      <td>191947.250000</td>\n",
       "      <td>0.00000</td>\n",
       "      <td>0.000000</td>\n",
       "      <td>193.981033</td>\n",
       "      <td>0.000000</td>\n",
       "      <td>0.000000</td>\n",
       "      <td>0.0</td>\n",
       "      <td>0.000000</td>\n",
       "      <td>0.00000</td>\n",
       "      <td>72.782500</td>\n",
       "      <td>21192.900000</td>\n",
       "    </tr>\n",
       "    <tr>\n",
       "      <th>50%</th>\n",
       "      <td>1094.500000</td>\n",
       "      <td>192461.000000</td>\n",
       "      <td>0.00000</td>\n",
       "      <td>0.000000</td>\n",
       "      <td>2613.524500</td>\n",
       "      <td>0.025000</td>\n",
       "      <td>0.002500</td>\n",
       "      <td>0.0</td>\n",
       "      <td>0.000000</td>\n",
       "      <td>0.00000</td>\n",
       "      <td>1167.180000</td>\n",
       "      <td>32277.000000</td>\n",
       "    </tr>\n",
       "    <tr>\n",
       "      <th>75%</th>\n",
       "      <td>1392.750000</td>\n",
       "      <td>192992.750000</td>\n",
       "      <td>0.00000</td>\n",
       "      <td>0.000000</td>\n",
       "      <td>5019.148500</td>\n",
       "      <td>0.050000</td>\n",
       "      <td>0.005000</td>\n",
       "      <td>0.0</td>\n",
       "      <td>0.000000</td>\n",
       "      <td>0.00000</td>\n",
       "      <td>2241.292500</td>\n",
       "      <td>41086.500000</td>\n",
       "    </tr>\n",
       "    <tr>\n",
       "      <th>max</th>\n",
       "      <td>8426.000000</td>\n",
       "      <td>200783.000000</td>\n",
       "      <td>75.25000</td>\n",
       "      <td>133.950000</td>\n",
       "      <td>21805.819622</td>\n",
       "      <td>0.220000</td>\n",
       "      <td>0.022000</td>\n",
       "      <td>0.0</td>\n",
       "      <td>59.180000</td>\n",
       "      <td>2.65000</td>\n",
       "      <td>4766.490000</td>\n",
       "      <td>52497.000000</td>\n",
       "    </tr>\n",
       "  </tbody>\n",
       "</table>\n",
       "</div>"
      ],
      "text/plain": [
       "        Unnamed: 0            VCN  TAT (ATB  -ATUB)\\nHOUR  \\\n",
       "count    50.000000      50.000000                50.00000   \n",
       "mean   1294.160000  192840.580000                 6.66580   \n",
       "std    1058.852042    2097.746109                18.67928   \n",
       "min     751.000000  191029.000000                 0.00000   \n",
       "25%     942.250000  191947.250000                 0.00000   \n",
       "50%    1094.500000  192461.000000                 0.00000   \n",
       "75%    1392.750000  192992.750000                 0.00000   \n",
       "max    8426.000000  200783.000000                75.25000   \n",
       "\n",
       "       TAT\\n(ATA - ATD)\\nHOUR  Total Weight  QTY IN LAKH MT  Qty in MMT  \\\n",
       "count               50.000000     50.000000       50.000000   50.000000   \n",
       "mean                 8.747400   3666.715240        0.036200    0.003620   \n",
       "std                 26.194979   4533.761685        0.046065    0.004607   \n",
       "min                  0.000000      2.089000        0.000000    0.000000   \n",
       "25%                  0.000000    193.981033        0.000000    0.000000   \n",
       "50%                  0.000000   2613.524500        0.025000    0.002500   \n",
       "75%                  0.000000   5019.148500        0.050000    0.005000   \n",
       "max                133.950000  21805.819622        0.220000    0.022000   \n",
       "\n",
       "       TEUs ('000)  Port Delay (Hrs)  Vessel Delay (Hrs)  Productivity  \\\n",
       "count         50.0         50.000000            50.00000     50.000000   \n",
       "mean           0.0          1.257000             0.07900   1315.323600   \n",
       "std            0.0          8.374815             0.39899   1291.664949   \n",
       "min            0.0          0.000000             0.00000      0.890000   \n",
       "25%            0.0          0.000000             0.00000     72.782500   \n",
       "50%            0.0          0.000000             0.00000   1167.180000   \n",
       "75%            0.0          0.000000             0.00000   2241.292500   \n",
       "max            0.0         59.180000             2.65000   4766.490000   \n",
       "\n",
       "            DEAD WT  \n",
       "count     46.000000  \n",
       "mean   31310.662391  \n",
       "std    12890.849648  \n",
       "min     4383.700000  \n",
       "25%    21192.900000  \n",
       "50%    32277.000000  \n",
       "75%    41086.500000  \n",
       "max    52497.000000  "
      ]
     },
     "execution_count": 49,
     "metadata": {},
     "output_type": "execute_result"
    }
   ],
   "source": [
    "df.describe()"
   ]
  },
  {
   "cell_type": "code",
   "execution_count": 50,
   "metadata": {
    "colab": {},
    "colab_type": "code",
    "id": "UBoJddWGCvLh"
   },
   "outputs": [],
   "source": [
    "X=df[['Total Weight']]\n",
    "y=df['Productivity']\n",
    "X_train, X_test, y_train, y_test = train_test_split(X, y, test_size=0.33, random_state=1)"
   ]
  },
  {
   "cell_type": "code",
   "execution_count": 51,
   "metadata": {
    "colab": {
     "base_uri": "https://localhost:8080/",
     "height": 34
    },
    "colab_type": "code",
    "id": "cf46FgNBCvL0",
    "outputId": "5549704c-2aa0-439c-d686-323a9c18e062"
   },
   "outputs": [
    {
     "data": {
      "text/plain": [
       "LinearRegression(copy_X=True, fit_intercept=True, n_jobs=None, normalize=False)"
      ]
     },
     "execution_count": 51,
     "metadata": {},
     "output_type": "execute_result"
    }
   ],
   "source": [
    "lm=LinearRegression()\n",
    "lm.fit(X_train,y_train)"
   ]
  },
  {
   "cell_type": "code",
   "execution_count": 52,
   "metadata": {
    "colab": {
     "base_uri": "https://localhost:8080/",
     "height": 34
    },
    "colab_type": "code",
    "id": "sng0WAz1CvMG",
    "outputId": "bbeb16a2-49f0-4d43-8853-64b7895ac475"
   },
   "outputs": [
    {
     "name": "stdout",
     "output_type": "stream",
     "text": [
      "742.2940096646219\n"
     ]
    }
   ],
   "source": [
    "print(lm.intercept_)"
   ]
  },
  {
   "cell_type": "code",
   "execution_count": 53,
   "metadata": {
    "colab": {
     "base_uri": "https://localhost:8080/",
     "height": 80
    },
    "colab_type": "code",
    "id": "hDYCb50bCvMW",
    "outputId": "2df724c8-9bc0-4e14-c102-e2c2c3d106d6"
   },
   "outputs": [
    {
     "data": {
      "text/html": [
       "<div>\n",
       "<style scoped>\n",
       "    .dataframe tbody tr th:only-of-type {\n",
       "        vertical-align: middle;\n",
       "    }\n",
       "\n",
       "    .dataframe tbody tr th {\n",
       "        vertical-align: top;\n",
       "    }\n",
       "\n",
       "    .dataframe thead th {\n",
       "        text-align: right;\n",
       "    }\n",
       "</style>\n",
       "<table border=\"1\" class=\"dataframe\">\n",
       "  <thead>\n",
       "    <tr style=\"text-align: right;\">\n",
       "      <th></th>\n",
       "      <th>Coefficient</th>\n",
       "    </tr>\n",
       "  </thead>\n",
       "  <tbody>\n",
       "    <tr>\n",
       "      <th>Total Weight</th>\n",
       "      <td>0.194999</td>\n",
       "    </tr>\n",
       "  </tbody>\n",
       "</table>\n",
       "</div>"
      ],
      "text/plain": [
       "              Coefficient\n",
       "Total Weight     0.194999"
      ]
     },
     "execution_count": 53,
     "metadata": {},
     "output_type": "execute_result"
    }
   ],
   "source": [
    "coeff_df = pd.DataFrame(lm.coef_,X.columns,columns=['Coefficient'])\n",
    "coeff_df"
   ]
  },
  {
   "cell_type": "code",
   "execution_count": 54,
   "metadata": {
    "colab": {},
    "colab_type": "code",
    "id": "_YUS43zuCvMo"
   },
   "outputs": [],
   "source": [
    "predictions = lm.predict(X_test)"
   ]
  },
  {
   "cell_type": "code",
   "execution_count": 55,
   "metadata": {},
   "outputs": [
    {
     "data": {
      "text/plain": [
       "[<matplotlib.lines.Line2D at 0x28e85094948>]"
      ]
     },
     "execution_count": 55,
     "metadata": {},
     "output_type": "execute_result"
    },
    {
     "data": {
      "image/png": "[encoded data removed]",
      "text/plain": [
       "<Figure size 432x288 with 1 Axes>"
      ]
     },
     "metadata": {
      "needs_background": "light"
     },
     "output_type": "display_data"
    }
   ],
   "source": [
    "plt.scatter(X,y,color=\"red\")\n",
    "plt.plot(X_test, predictions, color=\"blue\")"
   ]
  },
  {
   "cell_type": "code",
   "execution_count": 56,
   "metadata": {
    "colab": {
     "base_uri": "https://localhost:8080/",
     "height": 68
    },
    "colab_type": "code",
    "id": "p73JC1UlCvM4",
    "outputId": "dcbae87e-ce3e-4cca-b382-b6131c665887"
   },
   "outputs": [
    {
     "name": "stdout",
     "output_type": "stream",
     "text": [
      "MAE: 693.6699064369044\n",
      "MSE: 614468.7112068343\n",
      "RMSE: 783.88054651639\n",
      "r2_score: 0.49029858431649764\n"
     ]
    }
   ],
   "source": [
    "print('MAE:', metrics.mean_absolute_error(y_test, predictions))\n",
    "print('MSE:', metrics.mean_squared_error(y_test, predictions))\n",
    "print('RMSE:', np.sqrt(metrics.mean_squared_error(y_test, predictions)))#Main\n",
    "print('r2_score:',r2_score(y_test,predictions))"
   ]
  },
  {
   "cell_type": "code",
   "execution_count": 57,
   "metadata": {
    "colab": {},
    "colab_type": "code",
    "id": "8X9Us0ylCvNK"
   },
   "outputs": [],
   "source": [
    "#joblib.dump(lm,\"Acetic_Acid.pkl\")#only execute if rmse is less than half of mean of productivity"
   ]
  }
 ],
 "metadata": {
  "colab": {
   "name": "Steel_Plates.ipynb",
   "provenance": []
  },
  "kernelspec": {
   "display_name": "Python 3",
   "language": "python",
   "name": "python3"
  },
  "language_info": {
   "codemirror_mode": {
    "name": "ipython",
    "version": 3
   },
   "file_extension": ".py",
   "mimetype": "text/x-python",
   "name": "python",
   "nbconvert_exporter": "python",
   "pygments_lexer": "ipython3",
   "version": "3.7.6"
  }
 },
 "nbformat": 4,
 "nbformat_minor": 1
}
